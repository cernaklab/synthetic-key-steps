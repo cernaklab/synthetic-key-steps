{
 "cells": [
  {
   "cell_type": "markdown",
   "id": "784c6993",
   "metadata": {},
   "source": [
    "## Plots graph edit distance figures for main text and SI"
   ]
  },
  {
   "cell_type": "code",
   "execution_count": 2,
   "id": "overall-paradise",
   "metadata": {},
   "outputs": [],
   "source": [
    "from rdkit import Chem\n",
    "from rdkit.Chem.Draw import IPythonConsole\n",
    "\n",
    "import matplotlib.pyplot as plt\n",
    "plt.rcParams.update({'font.family':'Arial'})\n",
    "\n",
    "import numpy as np\n",
    "import pandas as pd"
   ]
  },
  {
   "cell_type": "code",
   "execution_count": 3,
   "id": "flush-opinion",
   "metadata": {},
   "outputs": [],
   "source": [
    "def sum_abs_adj_matrix(m):\n",
    "    return sum(sum(np.abs(m)))/2"
   ]
  },
  {
   "cell_type": "markdown",
   "id": "e7aa5e1e",
   "metadata": {},
   "source": [
    "### various graphing colors"
   ]
  },
  {
   "cell_type": "code",
   "execution_count": 4,
   "id": "ecdcce49",
   "metadata": {},
   "outputs": [],
   "source": [
    "synthia_purple = np.array([80,50,145,255])/255\n",
    "synthia_blue = np.array([45,190,205,255])/255\n",
    "synthia_orange = np.array([255,160,0,255])/255\n",
    "synthia_pink = np.array([235,60,150,255])/255"
   ]
  },
  {
   "cell_type": "code",
   "execution_count": 5,
   "id": "6f5acfa5",
   "metadata": {},
   "outputs": [],
   "source": [
    "cdraw_orange_face = np.array([252,236,207,255])/255\n",
    "cdraw_orange_edge = np.array([245,191,94,255])/255"
   ]
  },
  {
   "cell_type": "code",
   "execution_count": 6,
   "id": "6ddf7c3e",
   "metadata": {},
   "outputs": [],
   "source": [
    "# gridline color\n",
    "grid_grey = np.array([225,225,225,255])/255"
   ]
  },
  {
   "cell_type": "markdown",
   "id": "miniature-antigua",
   "metadata": {},
   "source": [
    "## initialize"
   ]
  },
  {
   "cell_type": "code",
   "execution_count": 7,
   "id": "e449f0e0",
   "metadata": {},
   "outputs": [],
   "source": [
    "def process_route(r1):\n",
    "    \n",
    "    \"\"\"\n",
    "    processes matrix-encoded synthetic route.\n",
    "    \n",
    "    input: r1, a 3D array, where each layer is a matrix encoding a synthetic intermediate.\n",
    "    output: a dictionary of route metrics. \n",
    "        diffs - the graph edit distance from each intermediate to the target\n",
    "        step diffs - the graph edit distance from each intermediate to the one right after\n",
    "        slope - the difference between consecutive entries of the diffs array\n",
    "    \"\"\"\n",
    "    total_diffs = []\n",
    "\n",
    "    stereo_dists = []\n",
    "    final_stereo = np.diag(r1[-1].copy())\n",
    "    \n",
    "    # get a version with blank diagonals (since stereochem is processed separately)\n",
    "    final_bonds = r1[-1].copy()\n",
    "    np.fill_diagonal(final_bonds, 0)\n",
    "    \n",
    "    for raw_mat in r1:\n",
    "        \n",
    "        # calculate stereochem distance \n",
    "        stereo_data = np.diag(raw_mat.copy())\n",
    "        stereo_dist = sum(stereo_data != final_stereo)\n",
    "        stereo_dists.append(stereo_dist)\n",
    "        \n",
    "        # get bonds only (without stereo)\n",
    "        mat = raw_mat.copy()\n",
    "        np.fill_diagonal(mat, 0)\n",
    "        \n",
    "        # bond distance\n",
    "        diff = final_bonds - mat\n",
    "        \n",
    "        # get bond edit distance\n",
    "        # take all absolute values, sum them up, divide by 2\n",
    "        total_diff_abs = sum_abs_adj_matrix(diff)\n",
    "        \n",
    "        # append sum of bond and stereochem distance\n",
    "        total_diffs.append(total_diff_abs + stereo_dist)\n",
    "\n",
    "    \n",
    "    step_diffs = []\n",
    "    stereo_diffs = np.ediff1d(stereo_dists)\n",
    "    for i_mat in range(len(r1)-1):\n",
    "        # difference between 2 intermediates\n",
    "        step_diff = r1[i_mat+1] - r1[i_mat]\n",
    "        \n",
    "        # zero out the stereochem \n",
    "        np.fill_diagonal(step_diff, 0)\n",
    "        \n",
    "        # total bond and stereocenter edits between 2 consecutive intermediates \n",
    "        total_diff_abs = sum_abs_adj_matrix(step_diff) + abs(stereo_diffs[i_mat])\n",
    "\n",
    "        step_diffs.append(total_diff_abs)\n",
    "\n",
    "    # change in actual distance between intermediates \n",
    "    slope = -np.ediff1d(total_diffs)\n",
    "\n",
    "    return {\"diffs\":total_diffs,\"step_diffs\":step_diffs,\"slopes\":slope}\n",
    "    "
   ]
  },
  {
   "cell_type": "markdown",
   "id": "associate-dietary",
   "metadata": {},
   "source": [
    "### load and process data\n"
   ]
  },
  {
   "cell_type": "code",
   "execution_count": 8,
   "id": "41094acc",
   "metadata": {},
   "outputs": [],
   "source": [
    "data = np.load(\"./matrices/stemonine_synthia.npz\")[\"amats\"]\n",
    "to_plot = process_route(data)[\"diffs\"]"
   ]
  },
  {
   "cell_type": "markdown",
   "id": "4e4673cd",
   "metadata": {},
   "source": [
    "### plot graph\n",
    "the plotting code here is slightly raw. For a better-annotated function, see the notebook for plotting SI figures."
   ]
  },
  {
   "cell_type": "code",
   "execution_count": 9,
   "id": "a1a8fdc3",
   "metadata": {},
   "outputs": [],
   "source": [
    "# for step number annotation\n",
    "y_midpoints = np.array([np.mean([to_plot[i],to_plot[i+1]]) for i in range(len(to_plot)-1)])\n",
    "x_midpoints = np.arange(0.5,len(to_plot)-1,1)"
   ]
  },
  {
   "cell_type": "code",
   "execution_count": 10,
   "id": "0f6d3228",
   "metadata": {},
   "outputs": [
    {
     "data": {
      "image/png": "[encoded data removed]",
      "text/plain": [
       "<Figure size 252x144 with 1 Axes>"
      ]
     },
     "metadata": {
      "needs_background": "light"
     },
     "output_type": "display_data"
    }
   ],
   "source": [
    "fig,ax = plt.subplots(figsize=(3.5,2))\n",
    "\n",
    "mks = 4\n",
    "fs = 7\n",
    "label_fs = 7\n",
    "\n",
    "# plot distances\n",
    "ax.plot(to_plot,marker=\"o\",color=\"grey\",markersize=mks,mfc=\"k\",mec=\"k\")\n",
    "\n",
    "# plot highlighted steps\n",
    "ax.plot([2,3],to_plot[2:4],color=synthia_orange,marker=\"o\",markersize=mks,mfc=\"k\",mec=\"k\",linewidth=2)\n",
    "\n",
    "\n",
    "ax.set_xticks(range(len(to_plot)))\n",
    "ax.set_xticklabels(range(1,len(to_plot)+1),fontsize=fs)\n",
    "ax.set_yticks(range(0,31,5))\n",
    "ax.set_yticklabels(range(0,31,5),fontsize=fs)\n",
    "ax.set_ylabel(\"Graph Edit Distance\",fontsize=label_fs)\n",
    "ax.set_xlabel(\"Intermediate\",fontsize=label_fs)\n",
    "\n",
    "# for the yellow circles with step numbers.\n",
    "# can adjust step number label height. can be array if custom adjustments are needed\n",
    "y_adj = 0\n",
    "ax.scatter(x_midpoints,y_midpoints+y_adj,s=75,color=cdraw_orange_face,edgecolors=cdraw_orange_edge,zorder=3)\n",
    "\n",
    "for i in range(len(x_midpoints)):\n",
    "    x_c = x_midpoints[i]\n",
    "    y_c = y_midpoints[i]+y_adj\n",
    "\n",
    "    label = ax.annotate(i+1, xy=(x_c,y_c), fontsize=6,ha=\"center\",va=\"center\",fontweight=\"bold\")\n",
    "    \n",
    "    \n",
    "# grey gridlines\n",
    "transX = ax.get_xaxis_transform()\n",
    "transY = ax.get_yaxis_transform()\n",
    "ax.vlines([1,3,5,7,9],ymin=0,ymax=1,color=grid_grey,zorder=0,linewidth=0.8,transform=transX)\n",
    "ax.hlines([0,10,20,30],xmin=0,xmax=1,color=grid_grey,zorder=0,linewidth=0.8,transform=transY)\n",
    "\n",
    "plt.savefig(\"./figures/main/2G_synthia_stemonine.svg\",bbox_inches = \"tight\")\n",
    "\n",
    "pass"
   ]
  },
  {
   "cell_type": "code",
   "execution_count": 11,
   "id": "b74fceb9",
   "metadata": {},
   "outputs": [],
   "source": [
    "data = np.load(\"./matrices/gelsemine_synthia.npz\")[\"amats\"]\n",
    "to_plot = process_route(data)[\"diffs\"]"
   ]
  },
  {
   "cell_type": "code",
   "execution_count": 12,
   "id": "24688d78",
   "metadata": {},
   "outputs": [],
   "source": [
    "# for step number annotation\n",
    "y_midpoints = np.array([np.mean([to_plot[i],to_plot[i+1]]) for i in range(len(to_plot)-1)])\n",
    "x_midpoints = np.arange(0.5,len(to_plot)-1,1)"
   ]
  },
  {
   "cell_type": "code",
   "execution_count": 14,
   "id": "1d2104eb",
   "metadata": {},
   "outputs": [
    {
     "data": {
      "image/png": "[encoded data removed]",
      "text/plain": [
       "<Figure size 252x144 with 1 Axes>"
      ]
     },
     "metadata": {
      "needs_background": "light"
     },
     "output_type": "display_data"
    }
   ],
   "source": [
    "fig,ax = plt.subplots(figsize=(3.5,2))\n",
    "\n",
    "mks = 4\n",
    "fs = 11\n",
    "label_fs = 10\n",
    "circle_fs = 6\n",
    "\n",
    "\n",
    "# plot undercut\n",
    "grey_below = np.linspace(to_plot[6],to_plot[9],4)\n",
    "plt.plot([6,7,8,9],grey_below,color=\"grey\")\n",
    "ax.fill_between([6,7,8,9],grey_below,to_plot[6:10],color=\"lightgrey\")\n",
    "\n",
    "# plot distances\n",
    "ax.plot(to_plot,marker=\"o\",color=\"grey\",markersize=mks,mfc=\"k\",mec=\"k\")\n",
    "\n",
    "ax.set_xticks(range(len(to_plot)))\n",
    "ax.set_xticklabels(range(1,len(to_plot)+1),fontsize=fs)\n",
    "\n",
    "ax.set_ylabel(\"Graph Edit Distance\",fontsize=label_fs)\n",
    "ax.set_xlabel(\"Intermediate\",fontsize=label_fs)\n",
    "\n",
    "# for the yellow circles with step numbers.\n",
    "# can adjust step number label height. can be array if custom adjustments are needed\n",
    "y_adj = 0\n",
    "ax.scatter(x_midpoints,y_midpoints+y_adj,s=75,color=cdraw_orange_face,edgecolors=cdraw_orange_edge,zorder=3)\n",
    "\n",
    "for i in range(len(x_midpoints)):\n",
    "    x_c = x_midpoints[i]\n",
    "    y_c = y_midpoints[i]+y_adj\n",
    "\n",
    "    label = ax.annotate(i+1, xy=(x_c,y_c), fontsize=6,ha=\"center\",va=\"center\",fontweight=\"bold\")\n",
    "\n",
    "transX = ax.get_xaxis_transform()\n",
    "transY = ax.get_yaxis_transform()\n",
    "ax.vlines([1,3,5,7,9],ymin=0,ymax=1,color=grid_grey,zorder=0,linewidth=0.8,transform=transX)\n",
    "ax.hlines([0,10,20,30],xmin=0,xmax=1,color=grid_grey,zorder=0,linewidth=0.8,transform=transY)\n",
    "ax.set_yticks(range(0,36,5))\n",
    "ax.set_yticklabels(range(0,36,5),fontsize=fs)\n",
    "\n",
    "# compute values for the slope table\n",
    "slope = -np.array(process_route(data)[\"slopes\"]).astype(\"int\")\n",
    "\n",
    "# swap to em dash\n",
    "slope_plot = []\n",
    "for slp in slope:\n",
    "    if slp >= 0:\n",
    "        slope_plot.append(slp)\n",
    "    else:\n",
    "        slope_plot.append(\"−\"+str(slp)[1:])\n",
    "\n",
    "# the case for a 4-column table\n",
    "if len(slope) >= 10:\n",
    "    # even \n",
    "    if len(slope) % 2 == 0:\n",
    "        table_tags = np.arange(1,len(slope)+1,1)\n",
    "        table_midpt = int(len(slope)/2)\n",
    "        table_text = np.column_stack((table_tags[0:table_midpt],\n",
    "                                           slope_plot[0:table_midpt],\n",
    "                                      table_tags[table_midpt:],\n",
    "                                           slope_plot[table_midpt:]))\n",
    "    # odd    \n",
    "    else:\n",
    "        pass\n",
    "\n",
    "# regular\n",
    "else: \n",
    "    table_text = np.int8(np.vstack((np.arange(1,len(slope)+1,1),slope)).transpose())\n",
    "    \n",
    "for hl in [1,4,6]:\n",
    "    ax.plot([hl-1,hl],to_plot[hl-1:hl+1],color=synthia_orange,marker=\"o\",markersize=mks,mfc=\"k\",mec=\"k\",linewidth=2)\n",
    "\n",
    "# table_text = np.int8(np.vstack((np.arange(1,len(slope)+1,1),slope)).transpose())\n",
    "table_scale=(0.7,1.51)\n",
    "slope_table = ax.table(cellText=table_text,\n",
    "                      colLabels=[\"Step\",\"Slope\",\"Step\",\"Slope\"],\n",
    "                      loc='right',fontsize=fs)\n",
    "\n",
    "slope_table.scale(*table_scale)\n",
    "plt.savefig(\"./figures/SI_1/S10B_synthia_gelsemine_wide_undercut.svg\",bbox_inches = \"tight\")"
   ]
  }
 ],
 "metadata": {
  "kernelspec": {
   "display_name": "Python 3 (ipykernel)",
   "language": "python",
   "name": "python3"
  },
  "language_info": {
   "codemirror_mode": {
    "name": "ipython",
    "version": 3
   },
   "file_extension": ".py",
   "mimetype": "text/x-python",
   "name": "python",
   "nbconvert_exporter": "python",
   "pygments_lexer": "ipython3",
   "version": "3.9.7"
  }
 },
 "nbformat": 4,
 "nbformat_minor": 5
}
