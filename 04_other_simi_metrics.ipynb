{
 "cells": [
  {
   "cell_type": "code",
   "execution_count": 1,
   "id": "096e1a07",
   "metadata": {},
   "outputs": [],
   "source": [
    "from rdkit import Chem\n",
    "from rdkit.Chem import Atom, BondType\n",
    "from rdkit.Chem.AllChem import GetMorganFingerprintAsBitVect\n",
    "from rdkit import DataStructs\n",
    "#\n",
    "import pandas as pd\n",
    "import numpy as np\n",
    "import matplotlib.pyplot as plt\n",
    "plt.rcParams.update({'font.family':'Arial'})"
   ]
  },
  {
   "cell_type": "code",
   "execution_count": 2,
   "id": "414e10ed",
   "metadata": {},
   "outputs": [],
   "source": [
    "synthia_purple = np.array([80,50,145,255])/255\n",
    "synthia_blue = np.array([45,190,205,255])/255\n",
    "synthia_orange = np.array([255,160,0,255])/255\n",
    "synthia_pink = np.array([235,60,150,255])/255"
   ]
  },
  {
   "cell_type": "code",
   "execution_count": 3,
   "id": "833b8165",
   "metadata": {},
   "outputs": [],
   "source": [
    "synthia_cols = [synthia_blue,synthia_orange,synthia_pink,synthia_purple]"
   ]
  },
  {
   "cell_type": "code",
   "execution_count": 4,
   "id": "77b577bf",
   "metadata": {},
   "outputs": [],
   "source": [
    "def molFromAdjMat(atoms, amat,sanitize=True):\n",
    "    \"\"\"Creates a mol object from an adjacency matrix.\n",
    "    Inputs:\n",
    "    atoms: list of atomic numbers of atoms, by row\n",
    "    amat: adjacency matrix. Has to have same length as atoms (obviously)\n",
    "    Output: mol object\n",
    "    \"\"\"\n",
    "    \n",
    "    m = Chem.RWMol()\n",
    "    # add in the separate atoms\n",
    "    for a in atoms: m.AddAtom(Atom(a))\n",
    "    side_len = len(amat)    \n",
    "    for r in range(side_len):\n",
    "        for c in range(r+1,side_len):\n",
    "            bond_order = amat[r][c]\n",
    "            if bond_order > 0:\n",
    "                if bond_order == 1: m.AddBond(r,c,BondType.SINGLE)\n",
    "                if bond_order == 2: m.AddBond(r,c,BondType.DOUBLE)\n",
    "                if bond_order == 3: m.AddBond(r,c,BondType.TRIPLE)\n",
    "\n",
    "    if sanitize:\n",
    "        Chem.SanitizeMol(m)\n",
    "    return m"
   ]
  },
  {
   "cell_type": "code",
   "execution_count": 5,
   "id": "fb21e1d7",
   "metadata": {},
   "outputs": [],
   "source": [
    "def get_fps_data(mols):\n",
    "\n",
    "    fps = [GetMorganFingerprintAsBitVect(m,2,useChirality=True,useFeatures=True) for m in mols]\n",
    "    pdt_fp = fps[-1]\n",
    "\n",
    "    all_fps = []\n",
    "\n",
    "    for fp in fps:\n",
    "\n",
    "        tanimoto = DataStructs.FingerprintSimilarity(fp,pdt_fp,metric=DataStructs.TanimotoSimilarity)\n",
    "        dice = DataStructs.FingerprintSimilarity(fp,pdt_fp,metric=DataStructs.DiceSimilarity)\n",
    "        cosine = DataStructs.FingerprintSimilarity(fp,pdt_fp,metric=DataStructs.CosineSimilarity)\n",
    "        russel = DataStructs.FingerprintSimilarity(fp,pdt_fp,metric=DataStructs.RusselSimilarity)\n",
    "        kulczynski = DataStructs.FingerprintSimilarity(fp,pdt_fp,metric=DataStructs.KulczynskiSimilarity)\n",
    "        mcconnaughey = DataStructs.FingerprintSimilarity(fp,pdt_fp,metric=DataStructs.McConnaugheySimilarity)\n",
    "\n",
    "        all_fps.append([tanimoto,dice,cosine,russel,kulczynski,mcconnaughey])  \n",
    "\n",
    "    fps_df = pd.DataFrame(all_fps,columns = [\"tanimoto\",\"dice\",\"cosine\",\"russel\",\"kulczynski\",\"mcconnaughey\"])\n",
    "    return fps_df\n",
    "    "
   ]
  },
  {
   "cell_type": "markdown",
   "id": "7bdc8841",
   "metadata": {},
   "source": [
    "### Experimental Mannich"
   ]
  },
  {
   "cell_type": "code",
   "execution_count": 6,
   "id": "748c5483",
   "metadata": {},
   "outputs": [],
   "source": [
    "data = np.load(\"./matrices/stemo_exp_mannich.npz\")\n",
    "atoms = [int(i) for i in data[\"atoms\"]]\n",
    "amats = data[\"amats\"]\n",
    "mols = [molFromAdjMat(atoms,amat) for amat in amats]"
   ]
  },
  {
   "cell_type": "code",
   "execution_count": 7,
   "id": "e17f2118",
   "metadata": {},
   "outputs": [
    {
     "data": {
      "image/png": "[encoded data removed]",
      "text/plain": [
       "<Figure size 252x144 with 1 Axes>"
      ]
     },
     "metadata": {
      "needs_background": "light"
     },
     "output_type": "display_data"
    }
   ],
   "source": [
    "fps_df = get_fps_data(mols)\n",
    "\n",
    "mks = 4\n",
    "fs = 9\n",
    "label_fs = 7\n",
    "\n",
    "plt.figure(figsize = (3.5,2))\n",
    "ax = plt.gca()\n",
    "\n",
    "\n",
    "for i_fp, fp_type in enumerate([\"tanimoto\",\"cosine\",\"mcconnaughey\"]):\n",
    "    ax.plot(fps_df[fp_type],marker = \"o\",color=synthia_cols[i_fp],markersize=mks)\n",
    "    \n",
    "ax.set_xticks(range(len(mols)))\n",
    "ax.set_xticklabels(range(1,len(mols)+1),fontsize=fs)\n",
    "\n",
    "ax.set_yticks(np.arange(-0.5,1.2,0.5))\n",
    "ax.set_yticklabels(np.arange(-0.5,1.2,0.5),fontsize=fs)\n",
    "\n",
    "# ax.legend([\"Tanimoto\",\"Cosine\",\"McConnaughey\"],bbox_to_anchor=(1, 1.05),fontsize=fs)\n",
    "\n",
    "ax.set_xlabel(\"Intermediate\",fontsize=10)\n",
    "ax.set_ylabel(\"Similarity\",fontsize=10)\n",
    "\n",
    "plt.title(\"Experimental Mannich\",fontsize=12)\n",
    "\n",
    "plt.savefig(\"./other_metrics/other_exp_mannich.png\",dpi=300,bbox_inches = \"tight\")\n"
   ]
  },
  {
   "cell_type": "markdown",
   "id": "23a88c75",
   "metadata": {},
   "source": [
    "### Experimental Schmidt"
   ]
  },
  {
   "cell_type": "code",
   "execution_count": 8,
   "id": "c5a42601",
   "metadata": {},
   "outputs": [],
   "source": [
    "data = np.load(\"./matrices/stemo_exp_schmidt.npz\")\n",
    "atoms = [int(i) for i in data[\"atoms\"]]\n",
    "amats = data[\"amats\"]\n",
    "mols = [molFromAdjMat(atoms,amat) for amat in amats]"
   ]
  },
  {
   "cell_type": "code",
   "execution_count": 9,
   "id": "8a3f1bcd",
   "metadata": {},
   "outputs": [
    {
     "data": {
      "image/png": "[encoded data removed]",
      "text/plain": [
       "<Figure size 252x144 with 1 Axes>"
      ]
     },
     "metadata": {
      "needs_background": "light"
     },
     "output_type": "display_data"
    }
   ],
   "source": [
    "fps_df = get_fps_data(mols)\n",
    "\n",
    "mks = 4\n",
    "fs = 9\n",
    "label_fs = 7\n",
    "\n",
    "plt.figure(figsize = (3.5,2))\n",
    "ax = plt.gca()\n",
    "\n",
    "\n",
    "for i_fp, fp_type in enumerate([\"tanimoto\",\"cosine\",\"mcconnaughey\"]):\n",
    "    ax.plot(fps_df[fp_type],marker = \"o\",color=synthia_cols[i_fp],markersize=mks)\n",
    "    \n",
    "ax.set_xticks(range(len(mols)))\n",
    "ax.set_xticklabels(range(1,len(mols)+1),fontsize=fs)\n",
    "\n",
    "ax.set_yticks(np.arange(-0.5,1.2,0.5))\n",
    "ax.set_yticklabels(np.arange(-0.5,1.2,0.5),fontsize=fs)\n",
    "\n",
    "ax.set_xlabel(\"Intermediate\",fontsize=10)\n",
    "ax.set_ylabel(\"Similarity\",fontsize=10)\n",
    "\n",
    "\n",
    "# ax.legend([\"Tanimoto\",\"Cosine\",\"McConnaughey\"],bbox_to_anchor=(1, 1.05),fontsize=fs)\n",
    "plt.title(\"Experimental Schmidt−Aubé\",fontsize=12)\n",
    "plt.savefig(\"./other_metrics/other_exp_schmidt.png\",dpi=300,bbox_inches = \"tight\")\n"
   ]
  },
  {
   "cell_type": "markdown",
   "id": "1b0f2852",
   "metadata": {},
   "source": [
    "### Synthia Schmidt\n"
   ]
  },
  {
   "cell_type": "code",
   "execution_count": 10,
   "id": "5635e6fb",
   "metadata": {},
   "outputs": [],
   "source": [
    "data = np.load(\"./matrices/stemo_synthia_schmidt.npz\")\n",
    "atoms = [int(i) for i in data[\"atoms\"]]\n",
    "amats = data[\"amats\"]\n",
    "mols = [molFromAdjMat(atoms,amat) for amat in amats]"
   ]
  },
  {
   "cell_type": "code",
   "execution_count": 11,
   "id": "619ba508",
   "metadata": {},
   "outputs": [
    {
     "data": {
      "image/png": "[encoded data removed]",
      "text/plain": [
       "<Figure size 252x144 with 1 Axes>"
      ]
     },
     "metadata": {
      "needs_background": "light"
     },
     "output_type": "display_data"
    }
   ],
   "source": [
    "fps_df = get_fps_data(mols)\n",
    "\n",
    "mks = 4\n",
    "fs = 9\n",
    "label_fs = 7\n",
    "\n",
    "plt.figure(figsize = (3.5,2))\n",
    "ax = plt.gca()\n",
    "\n",
    "\n",
    "for i_fp, fp_type in enumerate([\"tanimoto\",\"cosine\",\"mcconnaughey\"]):\n",
    "    ax.plot(fps_df[fp_type],marker = \"o\",color=synthia_cols[i_fp],markersize=mks)\n",
    "    \n",
    "ax.set_xticks(range(len(mols)))\n",
    "ax.set_xticklabels(range(1,len(mols)+1),fontsize=fs)\n",
    "\n",
    "ax.set_yticks(np.arange(-0.5,1.2,0.5))\n",
    "ax.set_yticklabels(np.arange(-0.5,1.2,0.5),fontsize=fs)\n",
    "\n",
    "ax.set_xlabel(\"Intermediate\",fontsize=10)\n",
    "ax.set_ylabel(\"Similarity\",fontsize=10)\n",
    "\n",
    "ax.legend([\"Tanimoto\",\"Cosine\",\"McConnaughey\"],bbox_to_anchor=(1, 1.05),fontsize=fs)\n",
    "plt.title(\"SYNTHIA\\u2122 Schmidt−Aubé\",fontsize=12)\n",
    "plt.savefig(\"./other_metrics/other_synthia_schmidt.png\",dpi=300,bbox_inches = \"tight\")"
   ]
  },
  {
   "cell_type": "markdown",
   "id": "dc11f700",
   "metadata": {},
   "source": [
    "### Synthia Mannich"
   ]
  },
  {
   "cell_type": "code",
   "execution_count": 12,
   "id": "042e0812",
   "metadata": {},
   "outputs": [],
   "source": [
    "data = np.load(\"./matrices/stemo_synthia_mannich.npz\")\n",
    "atoms = [int(i) for i in data[\"atoms\"]]\n",
    "amats = data[\"amats\"]\n",
    "mols = [molFromAdjMat(atoms,amat) for amat in amats]"
   ]
  },
  {
   "cell_type": "code",
   "execution_count": 13,
   "id": "187b79e4",
   "metadata": {},
   "outputs": [
    {
     "data": {
      "image/png": "[encoded data removed]",
      "text/plain": [
       "<Figure size 252x144 with 1 Axes>"
      ]
     },
     "metadata": {
      "needs_background": "light"
     },
     "output_type": "display_data"
    }
   ],
   "source": [
    "fps_df = get_fps_data(mols)\n",
    "\n",
    "mks = 4\n",
    "fs = 9\n",
    "label_fs = 7\n",
    "\n",
    "plt.figure(figsize = (3.5,2))\n",
    "ax = plt.gca()\n",
    "\n",
    "for i_fp, fp_type in enumerate([\"tanimoto\",\"cosine\",\"mcconnaughey\"]):\n",
    "    ax.plot(fps_df[fp_type],marker = \"o\",color=synthia_cols[i_fp],markersize=mks)\n",
    "    \n",
    "ax.set_xticks(range(len(mols)))\n",
    "ax.set_xticklabels(range(1,len(mols)+1),fontsize=fs)\n",
    "\n",
    "ax.set_yticks(np.arange(-0.5,1.2,0.5))\n",
    "ax.set_yticklabels(np.arange(-0.5,1.2,0.5),fontsize=fs)\n",
    "\n",
    "# ax.legend([\"Tanimoto\",\"Cosine\",\"McConnaughey\"],bbox_to_anchor=(1, 1.05),fontsize=fs)\n",
    "\n",
    "ax.set_xlabel(\"Intermediate\",fontsize=10)\n",
    "ax.set_ylabel(\"Similarity\",fontsize=10)\n",
    "plt.title(\"SYNTHIA\\u2122 Mannich\",fontsize=12)\n",
    "plt.savefig(\"./other_metrics/other_synthia_mannich.png\",dpi=300,bbox_inches = \"tight\")"
   ]
  }
 ],
 "metadata": {
  "kernelspec": {
   "display_name": "Python 3 (ipykernel)",
   "language": "python",
   "name": "python3"
  },
  "language_info": {
   "codemirror_mode": {
    "name": "ipython",
    "version": 3
   },
   "file_extension": ".py",
   "mimetype": "text/x-python",
   "name": "python",
   "nbconvert_exporter": "python",
   "pygments_lexer": "ipython3",
   "version": "3.9.7"
  }
 },
 "nbformat": 4,
 "nbformat_minor": 5
}
