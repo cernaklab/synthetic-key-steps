{
 "cells": [
  {
   "cell_type": "code",
   "execution_count": 1,
   "id": "overall-paradise",
   "metadata": {},
   "outputs": [],
   "source": [
    "from rdkit import Chem\n",
    "from rdkit.Chem.Draw import IPythonConsole\n",
    "from rdkit.Chem import Atom, BondType\n",
    "\n",
    "import numpy as np\n",
    "import pandas as pd"
   ]
  },
  {
   "cell_type": "code",
   "execution_count": 2,
   "id": "educational-armstrong",
   "metadata": {},
   "outputs": [],
   "source": [
    "def amat_entry(amat,r,c,val):\n",
    "    \"\"\"\n",
    "    changes the (r,c) and (c,r) values of matrix \"amat\" to \"val\"\n",
    "    \"\"\"\n",
    "    amat[r-1][c-1] = amat[c-1][r-1]= val\n",
    "    return"
   ]
  },
  {
   "cell_type": "code",
   "execution_count": 3,
   "id": "0e3ec8e9",
   "metadata": {},
   "outputs": [],
   "source": [
    "def amat_edit(amat,r,c,delta):\n",
    "    \"\"\"\n",
    "    changes the (r,c) and (c,r) values of matrix \"amat\" to \"val\"\n",
    "    \"\"\"\n",
    "    amat[r-1][c-1] += delta\n",
    "    if r != c:\n",
    "        amat[c-1][r-1] += delta\n",
    "    return"
   ]
  },
  {
   "cell_type": "code",
   "execution_count": 4,
   "id": "large-pacific",
   "metadata": {},
   "outputs": [],
   "source": [
    "def molFromAdjMat(atoms, amat,sanitize=True):\n",
    "    \"\"\"Creates a mol object from an adjacency matrix.\n",
    "    Inputs:\n",
    "    atoms: list of atomic numbers of atoms, by row\n",
    "    amat: adjacency matrix. Has to have same length as atoms (obviously)\n",
    "    Output: mol object\n",
    "    Might need to add a try clause for sanitize\"\"\"\n",
    "    \n",
    "    m = Chem.RWMol()\n",
    "    # add in the separate atoms\n",
    "    for a in atoms: m.AddAtom(Atom(a))\n",
    "    side_len = len(amat)    \n",
    "    for r in range(side_len):\n",
    "        for c in range(r+1,side_len):\n",
    "            bond_order = amat[r][c]\n",
    "            if bond_order > 0:\n",
    "                if bond_order == 1: m.AddBond(r,c,BondType.SINGLE)\n",
    "                if bond_order == 2: m.AddBond(r,c,BondType.DOUBLE)\n",
    "                if bond_order == 3: m.AddBond(r,c,BondType.TRIPLE)\n",
    "\n",
    "    if sanitize:\n",
    "        Chem.SanitizeMol(m)\n",
    "    return m"
   ]
  },
  {
   "cell_type": "code",
   "execution_count": 5,
   "id": "manual-tsunami",
   "metadata": {},
   "outputs": [],
   "source": [
    "def mol_with_atom_index(mol):\n",
    "    for atom in mol.GetAtoms():\n",
    "        atom.SetAtomMapNum(atom.GetIdx()+1)\n",
    "    return mol"
   ]
  },
  {
   "cell_type": "code",
   "execution_count": 6,
   "id": "22997c39",
   "metadata": {},
   "outputs": [],
   "source": [
    "def make_changelogs(data_file_path):\n",
    "    data = pd.read_csv(data_file_path)[[\"bond\",\"edit\",\"file\"]]\n",
    "    data = data[~data.bond.isnull()].copy()\n",
    "    \n",
    "    changelogs = []\n",
    "    entry = {}\n",
    "    bond_edits = ()\n",
    "    for r in data.itertuples():\n",
    "\n",
    "\n",
    "        # reset entry dict at new step\n",
    "        if r[1] == \"step\":\n",
    "            entry[\"edits\"] = bond_edits\n",
    "            changelogs.append(entry)\n",
    "            entry = {}\n",
    "\n",
    "        # if padding, fill th\n",
    "        elif r[1] == \"pad\":\n",
    "            pad_atoms = r[3].split(\" \")\n",
    "            pad_atoms = [int(i) for i in pad_atoms]\n",
    "\n",
    "            if pad_atoms == [0]:\n",
    "                entry[\"pad\"] = 0\n",
    "                entry[\"pad_elem\"] = []\n",
    "\n",
    "            else:\n",
    "                entry[\"pad\"] = len(pad_atoms)\n",
    "                entry[\"pad_elem\"] = pad_atoms\n",
    "\n",
    "            # make the empty bond edits here to prepare\n",
    "            bond_edits = []\n",
    "        else:\n",
    "            bond_edits.append((int(r[1]),int(r[2]),int(r[3])))\n",
    "    \n",
    "    return changelogs"
   ]
  },
  {
   "cell_type": "code",
   "execution_count": 7,
   "id": "5f362dd6",
   "metadata": {},
   "outputs": [],
   "source": [
    "def apply_changes(amat_init, atoms_init,changelogs):\n",
    "    seq_out = [amat_init.copy()]\n",
    "    amat = amat_init.copy()\n",
    "    atoms = atoms_init.copy()\n",
    "    for i in changelogs:\n",
    "#         try:\n",
    "            \n",
    "        pad_amt = i[\"pad\"]\n",
    "\n",
    "        if pad_amt > 0:\n",
    "            amat = np.pad(amat,[(0, pad_amt), (0, pad_amt)],  mode=\"constant\")\n",
    "            atoms.extend(i[\"pad_elem\"])\n",
    "\n",
    "        for ed in i[\"edits\"]:\n",
    "            amat_edit(amat,ed[0],ed[1],ed[2])\n",
    "        seq_out.append(amat.copy())\n",
    "            \n",
    "#         except:\n",
    "#             print(i)\n",
    "        \n",
    "    seq_out.reverse()\n",
    "    \n",
    "    all_sizes = [m.shape[0] for m in seq_out]\n",
    "    max_size = max(all_sizes)\n",
    "\n",
    "    output_padded = []\n",
    "\n",
    "    for mat in seq_out:\n",
    "        mat_size = mat.shape[0]\n",
    "        if mat_size < max_size:\n",
    "            pad_size = max_size - mat_size \n",
    "            output_padded.append(np.pad(mat, [(0, pad_size), (0, pad_size)], mode='constant'))\n",
    "        else:\n",
    "            output_padded.append(mat)\n",
    "            \n",
    "        \n",
    "    return output_padded,atoms\n",
    "    "
   ]
  },
  {
   "cell_type": "markdown",
   "id": "miniature-antigua",
   "metadata": {},
   "source": [
    "## initialize"
   ]
  },
  {
   "cell_type": "code",
   "execution_count": 8,
   "id": "presidential-controversy",
   "metadata": {},
   "outputs": [],
   "source": [
    "# start with stemoamide, to have better atom matching\n",
    "stemo = Chem.MolFromSmiles(\"O=C([C@H]1C)O[C@@]2([H])[C@@]1([H])[C@]3([H])CCC(N3CCC2)=O\")\n",
    "\n",
    "stemo_atoms = [atm.GetAtomicNum() for atm in stemo.GetAtoms()]\n",
    "stemo_symbs = [atm.GetSymbol() for atm in stemo.GetAtoms()]\n",
    "\n",
    "amat = Chem.GetAdjacencyMatrix(stemo,useBO=True,force=True)\n",
    "amat_init = Chem.GetAdjacencyMatrix(stemo,useBO=True,force=True)\n",
    "amat_init = amat[:-1,:-1].copy()"
   ]
  },
  {
   "cell_type": "code",
   "execution_count": 9,
   "id": "59d7e291",
   "metadata": {},
   "outputs": [],
   "source": [
    "# modify to make stemonine\n",
    "amat_init = np.pad(amat_init,[(0, 7), (0, 7)],  mode=\"constant\")\n",
    "\n",
    "changes = [(11,16,1),(16,17,1),(16,20,1),(17,18,1),(18,22,1),(18,19,1),(19,21,2),(19,20,1)]\n",
    "\n",
    "for c in changes:\n",
    "    amat_entry(amat_init, *c)\n",
    "\n",
    "stemo_atoms = stemo_atoms[:-1] + [6,6,6,6,8,8,6]"
   ]
  },
  {
   "cell_type": "code",
   "execution_count": 10,
   "id": "04642cde",
   "metadata": {},
   "outputs": [
    {
     "data": {
      "image/png": "[encoded data removed]",
      "text/plain": [
       "<rdkit.Chem.rdchem.RWMol at 0x185cb997c20>"
      ]
     },
     "execution_count": 10,
     "metadata": {},
     "output_type": "execute_result"
    }
   ],
   "source": [
    "mol_with_atom_index(molFromAdjMat(stemo_atoms,amat_init))"
   ]
  },
  {
   "cell_type": "markdown",
   "id": "associate-dietary",
   "metadata": {},
   "source": [
    "### make the matrix\n"
   ]
  },
  {
   "cell_type": "code",
   "execution_count": 11,
   "id": "dd8d7590",
   "metadata": {},
   "outputs": [],
   "source": [
    "changelogs = make_changelogs(\"./edit_files/edits_stemonine_synthia.csv\")"
   ]
  },
  {
   "cell_type": "code",
   "execution_count": 12,
   "id": "6d5d0185",
   "metadata": {},
   "outputs": [],
   "source": [
    "out_1,final_atoms_1 = apply_changes(amat_init, stemo_atoms,changelogs[1:])"
   ]
  },
  {
   "cell_type": "code",
   "execution_count": 13,
   "id": "b50ae311",
   "metadata": {},
   "outputs": [
    {
     "name": "stdout",
     "output_type": "stream",
     "text": [
      "0\n",
      "C.C=CC.CC(CO)CI.N#CCCCC=O.O.O.O=C(Cl)CO.O=C(O)CP\n",
      "1\n",
      "C.C=CC.CC(CO)CI.N#CCCC1C=CC(=O)O1.O.O.O.O=C(Cl)CO.P\n",
      "2\n",
      "C.C=CC.CC(CO)CI.NCCCC1C=CC(=O)O1.O.O.O.O=C(Cl)CO.P\n",
      "3\n",
      "C=CCC1C(CCCN)OC(=O)C1C.CC(CO)CI.O.O.O.O=C(Cl)CO.P\n",
      "4\n",
      "C=CC(=O)C1C(CCCN)OC(=O)C1C.CC(CO)CI.O.O.O=C(Cl)CO.P\n",
      "5\n",
      "C=CC(=O)C1C(CCCN)OC(=O)C1C.CC(CO)CC(O)C=O.Cl.I.O.O.P\n",
      "6\n",
      "C=CC(=O)C1C(CCCN)OC(=O)C1C.CC1CC(C=O)OC1=O.Cl.I.O.O.P\n",
      "7\n",
      "CC1CC(C(=O)CCC(=O)C2C(CCCN)OC(=O)C2C)OC1=O.Cl.I.O.O.P\n",
      "8\n",
      "CC1CC(C(O)CCC(O)C2C(CCCN)OC(=O)C2C)OC1=O.Cl.I.O.O.P\n",
      "9\n",
      "CC1CC(C2CCC3C4C(CCCN23)OC(=O)C4C)OC1=O.Cl.I.O.O.O.O.P\n",
      "10\n",
      "CC1CC(C2CCC3C4C(CCCN23)OC(=O)C4C)OC1=O.Cl.I.O.O.O.O.P\n"
     ]
    }
   ],
   "source": [
    "from rdkit.Chem.Draw import *\n",
    "for i in range( len(out_1)):\n",
    "    print(i)\n",
    "    m = molFromAdjMat(final_atoms_1,out_1[i],sanitize=False)\n",
    "    Chem.SanitizeMol(m)\n",
    "    print(Chem.MolToSmiles(m))"
   ]
  },
  {
   "cell_type": "code",
   "execution_count": 14,
   "id": "9d0d3663",
   "metadata": {},
   "outputs": [],
   "source": [
    "save_dict = {\"amats\":out_1[:-1],\"atoms\":final_atoms_1}\n",
    "\n",
    "np.savez(\"./matrices/stemonine_synthia\",**save_dict)"
   ]
  }
 ],
 "metadata": {
  "kernelspec": {
   "display_name": "Python 3 (ipykernel)",
   "language": "python",
   "name": "python3"
  },
  "language_info": {
   "codemirror_mode": {
    "name": "ipython",
    "version": 3
   },
   "file_extension": ".py",
   "mimetype": "text/x-python",
   "name": "python",
   "nbconvert_exporter": "python",
   "pygments_lexer": "ipython3",
   "version": "3.9.7"
  }
 },
 "nbformat": 4,
 "nbformat_minor": 5
}
