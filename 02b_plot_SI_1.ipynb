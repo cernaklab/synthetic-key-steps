{
 "cells": [
  {
   "cell_type": "markdown",
   "id": "007b5a45",
   "metadata": {},
   "source": [
    "## Plots graph edit distance figures in SI."
   ]
  },
  {
   "cell_type": "code",
   "execution_count": 2,
   "id": "overall-paradise",
   "metadata": {},
   "outputs": [],
   "source": [
    "from rdkit import Chem\n",
    "from rdkit.Chem.Draw import IPythonConsole\n",
    "\n",
    "import matplotlib.pyplot as plt\n",
    "plt.rcParams.update({'font.family':'Arial'})\n",
    "import numpy as np\n",
    "\n",
    "import re"
   ]
  },
  {
   "cell_type": "code",
   "execution_count": 3,
   "id": "flush-opinion",
   "metadata": {},
   "outputs": [],
   "source": [
    "def sum_abs_adj_matrix(m):\n",
    "    return sum(sum(np.abs(m)))/2"
   ]
  },
  {
   "cell_type": "code",
   "execution_count": 4,
   "id": "ecdcce49",
   "metadata": {},
   "outputs": [],
   "source": [
    "# synthia graph colors\n",
    "synthia_purple = np.array([80,50,145,255])/255\n",
    "synthia_blue = np.array([45,190,205,255])/255\n",
    "synthia_orange = np.array([255,160,0,255])/255\n",
    "synthia_pink = np.array([235,60,150,255])/255"
   ]
  },
  {
   "cell_type": "code",
   "execution_count": 5,
   "id": "fbf9eb2e",
   "metadata": {},
   "outputs": [],
   "source": [
    "# chemdraw step marker colors\n",
    "cdraw_orange_face = np.array([252,236,207,255])/255\n",
    "cdraw_orange_edge = np.array([245,191,94,255])/255"
   ]
  },
  {
   "cell_type": "code",
   "execution_count": 6,
   "id": "53619248",
   "metadata": {},
   "outputs": [],
   "source": [
    "# gridline color\n",
    "grid_grey = np.array([225,225,225,255])/255"
   ]
  },
  {
   "cell_type": "markdown",
   "id": "miniature-antigua",
   "metadata": {},
   "source": [
    "## initialize"
   ]
  },
  {
   "cell_type": "code",
   "execution_count": 7,
   "id": "e449f0e0",
   "metadata": {},
   "outputs": [],
   "source": [
    "def process_route(r1):\n",
    "    \n",
    "    \"\"\"\n",
    "    processes matrix-encoded synthetic route.\n",
    "    \n",
    "    input: r1, a 3D array, where each layer is a matrix encoding a synthetic intermediate.\n",
    "    output: a dictionary of route metrics. \n",
    "        diffs - the graph edit distance from each intermediate to the target\n",
    "        step diffs - the graph edit distance from each intermediate to the one right after\n",
    "        slope - the difference between consecutive entries of the diffs array\n",
    "    \"\"\"\n",
    "    total_diffs = []\n",
    "\n",
    "    stereo_dists = []\n",
    "    final_stereo = np.diag(r1[-1].copy())\n",
    "    \n",
    "    # get a version with blank diagonals (since stereochem is processed separately)\n",
    "    final_bonds = r1[-1].copy()\n",
    "    np.fill_diagonal(final_bonds, 0)\n",
    "    \n",
    "    for raw_mat in r1:\n",
    "        \n",
    "        # calculate stereochem distance \n",
    "        stereo_data = np.diag(raw_mat.copy())\n",
    "        stereo_dist = sum(stereo_data != final_stereo)\n",
    "        stereo_dists.append(stereo_dist)\n",
    "        \n",
    "        # get bonds only (without stereo)\n",
    "        mat = raw_mat.copy()\n",
    "        np.fill_diagonal(mat, 0)\n",
    "        \n",
    "        # bond distance\n",
    "        diff = final_bonds - mat\n",
    "        \n",
    "        # get bond edit distance\n",
    "        # take all absolute values, sum them up, divide by 2\n",
    "        total_diff_abs = sum_abs_adj_matrix(diff)\n",
    "        \n",
    "        # append sum of bond and stereochem distance\n",
    "        total_diffs.append(total_diff_abs + stereo_dist)\n",
    "\n",
    "    \n",
    "    step_diffs = []\n",
    "    stereo_diffs = np.ediff1d(stereo_dists)\n",
    "    for i_mat in range(len(r1)-1):\n",
    "        # difference between 2 intermediates\n",
    "        step_diff = r1[i_mat+1] - r1[i_mat]\n",
    "        \n",
    "        # zero out the stereochem \n",
    "        np.fill_diagonal(step_diff, 0)\n",
    "        \n",
    "        # total bond and stereocenter edits between 2 consecutive intermediates \n",
    "        total_diff_abs = sum_abs_adj_matrix(step_diff) + abs(stereo_diffs[i_mat])\n",
    "\n",
    "        step_diffs.append(total_diff_abs)\n",
    "\n",
    "    # change in actual distance between intermediates \n",
    "    slope = -np.ediff1d(total_diffs)\n",
    "\n",
    "    return {\"diffs\":total_diffs,\"step_diffs\":step_diffs,\"slopes\":slope}\n",
    "    "
   ]
  },
  {
   "cell_type": "code",
   "execution_count": 8,
   "id": "fa039c00",
   "metadata": {},
   "outputs": [],
   "source": [
    "def graph_data(input_filename, highlight_steps=[], hl_only=False,\n",
    "               step_labels=None, table_scale=(0.3,1), gridlines=None, \n",
    "               savename=None,plt_title=None):\n",
    "    \n",
    "    \"\"\"\n",
    "    produces plot of graph edit distances for a synthetic route.\n",
    "    \n",
    "    inputs:\n",
    "    \n",
    "    input_filename: string, path to the .npz file of the synthetic route matrices\n",
    "    \n",
    "    hightlight_steps: list of step numbers to plot in orange.\n",
    "    \n",
    "    hl_only: boolean. Whether to only annotate step numbers for highlighted steps\n",
    "    \n",
    "    step_labels: list, used to override the default step labels\n",
    "    \n",
    "    table_scale: (x,y) tuple, scaling factor for the slope table. Set to None to omit.\n",
    "    \n",
    "    gridlines: a dictionary of {\"x\":[list of x indices],\"y\":[list of y indices]},\n",
    "        where grey gridlines will be drawn at the indicated locations.\n",
    "        \n",
    "    savename: string, path to save figure image\n",
    "    \n",
    "    plt_title: string, for titling the graph.\n",
    "    \"\"\"\n",
    "    amats = np.load(input_filename)[\"amats\"]\n",
    "    to_plot  = process_route(amats)[\"diffs\"]\n",
    "\n",
    "    # compute values for the slope table\n",
    "    slope = -np.array(process_route(amats)[\"slopes\"]).astype(\"int\")\n",
    "    \n",
    "    # swap to em dash\n",
    "    slope_plot = []\n",
    "    for slp in slope:\n",
    "        if slp >= 0:\n",
    "            slope_plot.append(slp)\n",
    "        else:\n",
    "            slope_plot.append(\"−\"+str(slp)[1:])\n",
    "\n",
    "    # the case for a 4-column table\n",
    "    if len(slope) >= 10:\n",
    "        # even \n",
    "        if len(slope) % 2 == 0:\n",
    "            table_tags = np.arange(1,len(slope)+1,1)\n",
    "            table_midpt = int(len(slope)/2)\n",
    "            table_text = np.column_stack((table_tags[0:table_midpt],\n",
    "                                          slope_plot[0:table_midpt],\n",
    "                                          table_tags[table_midpt:],\n",
    "                                          slope_plot[table_midpt:]))\n",
    "        # odd    \n",
    "        else:\n",
    "            slope1 = slope_plot + [\"-\"]\n",
    "            table_tags = np.append(np.arange(1,len(slope1),1),\"-\")\n",
    "            table_midpt = int(len(slope1)/2)\n",
    "            table_text = np.column_stack((table_tags[0:table_midpt],\n",
    "                                              slope1[0:table_midpt],\n",
    "                                          table_tags[table_midpt:],\n",
    "                                              slope1[table_midpt:]))        \n",
    "\n",
    "    # regular\n",
    "    else: \n",
    "        table_text = np.vstack((np.arange(1,len(slope)+1,1),slope_plot)).transpose()\n",
    "\n",
    "    # for step numbers\n",
    "    y_midpoints = np.array([np.mean([to_plot[i],to_plot[i+1]]) for i in range(len(to_plot)-1)])\n",
    "    x_midpoints = np.arange(0.5,len(to_plot)-1,1)\n",
    "\n",
    "    \n",
    "    fig,ax = plt.subplots(figsize=(3.5,2))\n",
    "\n",
    "    mks = 4\n",
    "    fs = 11 # table and tick labels\n",
    "    label_fs = 11 # axis labels\n",
    "    circle_fs = 7\n",
    "    \n",
    "    # re-plot highlighted steps as orange\n",
    "    ax.plot(to_plot,marker=\"o\",markersize=mks,color=\"grey\",mfc=\"k\",mec=\"k\")\n",
    "    for hl in highlight_steps:\n",
    "        ax.plot([hl-1,hl],to_plot[hl-1:hl+1],color=synthia_orange,marker=\"o\",markersize=mks,mfc=\"k\",mec=\"k\",linewidth=2)\n",
    "        \n",
    "    if gridlines:\n",
    "        transX = ax.get_xaxis_transform()\n",
    "        transY = ax.get_yaxis_transform()\n",
    "        ax.vlines(gridlines[\"x\"],ymin=0,ymax=1,color=grid_grey,zorder=0,linewidth=0.8,transform=transX)\n",
    "        ax.hlines(gridlines[\"y\"],xmin=0,xmax=1,color=grid_grey,zorder=0,linewidth=0.8,transform=transY)\n",
    "\n",
    "    # put in the table - colLabels will be fine with a 2-column.\n",
    "    if table_scale:\n",
    "        slope_table = ax.table(cellText=table_text,\n",
    "                              colLabels=[\"Step\",\"Slope\",\"Step\",\"Slope\"],\n",
    "                              loc='right',fontsize=fs)\n",
    "\n",
    "        slope_table.scale(*table_scale)\n",
    "\n",
    "    # the step circles\n",
    "    y_adj = 0\n",
    "    \n",
    "    # if no override, the labels are just the step number\n",
    "    if not step_labels:\n",
    "        step_labels = range(1,len(slope)+1)\n",
    "\n",
    "    # for only plotting the highlighted steps\n",
    "    if hl_only:\n",
    "        hl_inds = [i-1 for i in highlight_steps]\n",
    "        ax.scatter(x_midpoints[hl_inds],y_midpoints[hl_inds]+y_adj,s=75,\n",
    "                   color=cdraw_orange_face,edgecolors=cdraw_orange_edge,zorder=3)\n",
    "\n",
    "        for hl in hl_inds:\n",
    "            x_c = x_midpoints[hl]\n",
    "            y_c = y_midpoints[hl]+y_adj\n",
    "            label = ax.annotate(step_labels[hl], xy=(x_c,y_c), fontsize=circle_fs,ha=\"center\",va=\"center\",fontweight=\"bold\")\n",
    "\n",
    "    # for all the steps\n",
    "    else:\n",
    "        ax.scatter(x_midpoints,y_midpoints+y_adj,s=75,color=cdraw_orange_face,edgecolors=cdraw_orange_edge,zorder=3)\n",
    "\n",
    "        for i in range(len(x_midpoints)):\n",
    "            x_c = x_midpoints[i]\n",
    "            y_c = y_midpoints[i]+y_adj\n",
    "\n",
    "            label = ax.annotate(step_labels[i], xy=(x_c,y_c), fontsize=circle_fs,ha=\"center\",va=\"center\",fontweight=\"bold\")\n",
    "\n",
    "    # xy labels \n",
    "    ax.set_xticks(range(len(to_plot)))\n",
    "    ax.set_xticklabels(range(1,len(to_plot)+1),fontsize=fs)\n",
    "    \n",
    "    y_max = np.int8( np.ceil(max(to_plot)/5) * 5 + 1 )\n",
    "    ax.set_yticks(range(0,y_max,5))\n",
    "    ax.set_yticklabels(range(0,y_max,5),font=\"Arial\",fontsize=fs)\n",
    "\n",
    "    ax.set_ylabel(\"Graph Edit Distance\",fontsize=label_fs)\n",
    "    ax.set_xlabel(\"Intermediate\",fontsize=label_fs)\n",
    "    \n",
    "    if plt_title:\n",
    "        plt.title(plt_title,fontsize=label_fs)\n",
    "    \n",
    "    if savename:\n",
    "        plt.savefig(savename,dpi=600,bbox_inches = \"tight\")\n",
    "\n"
   ]
  },
  {
   "cell_type": "markdown",
   "id": "4fc8cb73",
   "metadata": {},
   "source": [
    "### S5B, Stemoamide Synthia Mannich"
   ]
  },
  {
   "cell_type": "code",
   "execution_count": 9,
   "id": "2dde4cf7",
   "metadata": {},
   "outputs": [
    {
     "data": {
      "image/png": "[encoded data removed]",
      "text/plain": [
       "<Figure size 252x144 with 1 Axes>"
      ]
     },
     "metadata": {
      "needs_background": "light"
     },
     "output_type": "display_data"
    }
   ],
   "source": [
    "input_filename = \"./matrices/stemo_synthia_mannich.npz\"\n",
    "highlight_steps = [2]\n",
    "hl_only = False\n",
    "step_labels = None\n",
    "\n",
    "table_scale = (0.3,1.13)\n",
    "gridlines = {\"x\":[1,3,5,7],\"y\":[0,5,10,15,20]}\n",
    "\n",
    "output_title = re.split(\"\\W+\",input_filename)[-2]\n",
    "\n",
    "savename=f\"./figures/SI_1/S5B_{output_title}.svg\"\n",
    "\n",
    "graph_data(input_filename, highlight_steps, hl_only, step_labels, table_scale, gridlines, savename=savename)"
   ]
  },
  {
   "cell_type": "markdown",
   "id": "2a4a7de4",
   "metadata": {},
   "source": [
    "### S6B, Stemoamide Synthia, with Mannich step excluded"
   ]
  },
  {
   "cell_type": "code",
   "execution_count": 10,
   "id": "0dcf63b0",
   "metadata": {},
   "outputs": [
    {
     "data": {
      "image/png": "[encoded data removed]",
      "text/plain": [
       "<Figure size 252x144 with 1 Axes>"
      ]
     },
     "metadata": {
      "needs_background": "light"
     },
     "output_type": "display_data"
    }
   ],
   "source": [
    "input_filename = \"./matrices/stemo_synthia_no_mannich.npz\"\n",
    "highlight_steps = [2,3]\n",
    "hl_only = False\n",
    "step_labels = None\n",
    "\n",
    "table_scale = (0.3,1.01)\n",
    "gridlines = {\"x\":[1,3,5,7],\"y\":[0,5,10,15,20]}\n",
    "\n",
    "output_title = re.split(\"\\W+\",input_filename)[-2]\n",
    "\n",
    "savename=f\"./figures/SI_1/S6B_{output_title}.svg\"\n",
    "# savename=None\n",
    "\n",
    "graph_data(input_filename, highlight_steps, hl_only, step_labels, table_scale, gridlines, savename=savename)"
   ]
  },
  {
   "cell_type": "markdown",
   "id": "8dee18af",
   "metadata": {},
   "source": [
    "### For Figure S4"
   ]
  },
  {
   "cell_type": "markdown",
   "id": "0ae0d866",
   "metadata": {},
   "source": [
    "### 1. Welwitindolinone Baran"
   ]
  },
  {
   "cell_type": "code",
   "execution_count": 11,
   "id": "72ba1be6",
   "metadata": {},
   "outputs": [
    {
     "data": {
      "image/png": "[encoded data removed]",
      "text/plain": [
       "<Figure size 252x144 with 1 Axes>"
      ]
     },
     "metadata": {
      "needs_background": "light"
     },
     "output_type": "display_data"
    }
   ],
   "source": [
    "input_filename = \"./matrices/welwitindolinone_baran.npz\"\n",
    "\n",
    "highlight_steps = [6]\n",
    "hl_only = True\n",
    "step_labels = [\"_\"]*5 + [\"A\"]\n",
    "\n",
    "# table_scale = (0.3,1.3)\n",
    "table_scale=None\n",
    "\n",
    "gridlines = {\"x\":[1,3,5],\"y\":[0,5,10]}\n",
    "\n",
    "output_title = re.split(\"\\W+\",input_filename)[-2]\n",
    "\n",
    "savename=f\"./figures/SI_1/S4-1_{output_title}.svg\"\n",
    "# savename=None\n",
    "\n",
    "graph_data(input_filename, highlight_steps, hl_only, step_labels, table_scale, gridlines,\n",
    "          savename=savename,plt_title=\"Baran Welwitindolinone A\")"
   ]
  },
  {
   "cell_type": "markdown",
   "id": "c80ba955",
   "metadata": {},
   "source": [
    "### 2. Frondosin B Danishefsky"
   ]
  },
  {
   "cell_type": "code",
   "execution_count": 12,
   "id": "00f9f319",
   "metadata": {},
   "outputs": [
    {
     "data": {
      "image/png": "[encoded data removed]",
      "text/plain": [
       "<Figure size 252x144 with 1 Axes>"
      ]
     },
     "metadata": {
      "needs_background": "light"
     },
     "output_type": "display_data"
    }
   ],
   "source": [
    "input_filename = \"./matrices/frondosin_danishefsky.npz\"\n",
    "plt_title=\"Danishefsky Frondosin B\"\n",
    "\n",
    "highlight_steps = [15]\n",
    "hl_only = True\n",
    "step_labels = [\"_\"]*14 + [\"A\"]\n",
    "\n",
    "# table_scale = (0.3,1.3)\n",
    "table_scale=None\n",
    "\n",
    "gridlines = {\"x\":range(3,19,4),\"y\":range(0,25,5)}\n",
    "\n",
    "output_title = re.split(\"\\W+\",input_filename)[-2]\n",
    "\n",
    "savename=f\"./figures/SI_1/S4-2_{output_title}.svg\"\n",
    "# savename=None\n",
    "\n",
    "graph_data(input_filename, highlight_steps, hl_only, step_labels, table_scale, gridlines, \n",
    "           savename=savename,plt_title=plt_title)"
   ]
  },
  {
   "cell_type": "markdown",
   "id": "f1bb96d1",
   "metadata": {},
   "source": [
    "### 3. Englerin A Christmann "
   ]
  },
  {
   "cell_type": "code",
   "execution_count": 13,
   "id": "92de3f8b",
   "metadata": {},
   "outputs": [
    {
     "data": {
      "image/png": "[encoded data removed]",
      "text/plain": [
       "<Figure size 252x144 with 1 Axes>"
      ]
     },
     "metadata": {
      "needs_background": "light"
     },
     "output_type": "display_data"
    }
   ],
   "source": [
    "input_filename = \"./matrices/englerin_christmann.npz\"\n",
    "plt_title=\"Christmann Englerin A\"\n",
    "\n",
    "highlight_steps = [9]\n",
    "hl_only = True\n",
    "step_labels = [\"_\"]*8 + [\"A\"]\n",
    "\n",
    "# table_scale = (0.3,1.3)\n",
    "table_scale=None\n",
    "\n",
    "gridlines = {\"x\":range(3,19,4),\"y\":range(0,20,5)}\n",
    "\n",
    "output_title = re.split(\"\\W+\",input_filename)[-2]\n",
    "\n",
    "savename=f\"./figures/SI_1/S4-3_{output_title}.svg\"\n",
    "# savename=None\n",
    "\n",
    "graph_data(input_filename, highlight_steps, hl_only, step_labels, table_scale, gridlines, \n",
    "           savename=savename,plt_title=plt_title)"
   ]
  },
  {
   "cell_type": "markdown",
   "id": "55f70d05",
   "metadata": {},
   "source": [
    "### 4. Englerin A Chain"
   ]
  },
  {
   "cell_type": "code",
   "execution_count": 14,
   "id": "9ca958e3",
   "metadata": {},
   "outputs": [
    {
     "data": {
      "image/png": "[encoded data removed]",
      "text/plain": [
       "<Figure size 252x144 with 1 Axes>"
      ]
     },
     "metadata": {
      "needs_background": "light"
     },
     "output_type": "display_data"
    }
   ],
   "source": [
    "input_filename = \"./matrices/englerin_chain.npz\"\n",
    "plt_title=\"Chain Englerin A\"\n",
    "\n",
    "highlight_steps = [1,2]\n",
    "hl_only = True\n",
    "step_labels = [\"A\",\"B\"]\n",
    "\n",
    "# table_scale = (0.3,1.3)\n",
    "table_scale=None\n",
    "\n",
    "gridlines = {\"x\":range(1,7,2),\"y\":range(0,20,5)}\n",
    "\n",
    "output_title = re.split(\"\\W+\",input_filename)[-2]\n",
    "\n",
    "savename=f\"./figures/SI_1/S4-4_{output_title}.svg\"\n",
    "# savename=None\n",
    "\n",
    "graph_data(input_filename, highlight_steps, hl_only, step_labels, table_scale, gridlines, \n",
    "           savename=savename,plt_title=plt_title)"
   ]
  },
  {
   "cell_type": "markdown",
   "id": "1b6e32a8",
   "metadata": {},
   "source": [
    "### 5. Strychnine MacMillan"
   ]
  },
  {
   "cell_type": "code",
   "execution_count": 15,
   "id": "3eec5ca4",
   "metadata": {},
   "outputs": [
    {
     "data": {
      "image/png": "[encoded data removed]",
      "text/plain": [
       "<Figure size 252x144 with 1 Axes>"
      ]
     },
     "metadata": {
      "needs_background": "light"
     },
     "output_type": "display_data"
    }
   ],
   "source": [
    "input_filename = \"./matrices/strychnine_macmillan.npz\"\n",
    "plt_title=\"MacMillan Strychnine\"\n",
    "\n",
    "highlight_steps = [4,10]\n",
    "hl_only = True\n",
    "step_labels = [1]*3 + [\"A\"] + [1]*5 + [\"B\"]\n",
    "\n",
    "# table_scale = (0.3,1.3)\n",
    "table_scale=None\n",
    "\n",
    "gridlines = {\"x\":range(1,13,2),\"y\":range(0,31,5)}\n",
    "\n",
    "output_title = re.split(\"\\W+\",input_filename)[-2]\n",
    "\n",
    "savename=f\"./figures/SI_1/S4-5_{output_title}.svg\"\n",
    "# savename=None\n",
    "\n",
    "graph_data(input_filename, highlight_steps, hl_only, step_labels, table_scale, gridlines, \n",
    "           savename=savename,plt_title=plt_title)"
   ]
  },
  {
   "cell_type": "markdown",
   "id": "0c1c6d14",
   "metadata": {},
   "source": [
    "### 6. Vanderwal Strychnine"
   ]
  },
  {
   "cell_type": "code",
   "execution_count": 16,
   "id": "e557c8bc",
   "metadata": {},
   "outputs": [
    {
     "data": {
      "image/png": "[encoded data removed]",
      "text/plain": [
       "<Figure size 252x144 with 1 Axes>"
      ]
     },
     "metadata": {
      "needs_background": "light"
     },
     "output_type": "display_data"
    }
   ],
   "source": [
    "input_filename = \"./matrices/strychnine_vanderwal.npz\"\n",
    "plt_title=\"Vanderwal Strychnine\"\n",
    "\n",
    "highlight_steps = [5,8]\n",
    "hl_only = True\n",
    "step_labels = [1]*4 + [\"A\"] + [1]*2 + [\"B\"]\n",
    "\n",
    "# table_scale = (0.3,1.3)\n",
    "table_scale=None\n",
    "\n",
    "gridlines = {\"x\":range(1,11,2),\"y\":range(0,25,5)}\n",
    "\n",
    "output_title = re.split(\"\\W+\",input_filename)[-2]\n",
    "\n",
    "savename=f\"./figures/SI_1/S4-6_{output_title}.svg\"\n",
    "# savename=None\n",
    "\n",
    "graph_data(input_filename, highlight_steps, hl_only, step_labels, table_scale, gridlines, \n",
    "           savename=savename,plt_title=plt_title)"
   ]
  }
 ],
 "metadata": {
  "kernelspec": {
   "display_name": "Python 3 (ipykernel)",
   "language": "python",
   "name": "python3"
  },
  "language_info": {
   "codemirror_mode": {
    "name": "ipython",
    "version": 3
   },
   "file_extension": ".py",
   "mimetype": "text/x-python",
   "name": "python",
   "nbconvert_exporter": "python",
   "pygments_lexer": "ipython3",
   "version": "3.9.7"
  }
 },
 "nbformat": 4,
 "nbformat_minor": 5
}
