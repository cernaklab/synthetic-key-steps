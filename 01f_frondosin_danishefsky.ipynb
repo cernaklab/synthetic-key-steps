{
 "cells": [
  {
   "cell_type": "code",
   "execution_count": 14,
   "id": "overall-paradise",
   "metadata": {},
   "outputs": [],
   "source": [
    "from rdkit import Chem\n",
    "from rdkit.Chem import Atom, BondType\n",
    "from rdkit.Chem.Draw import IPythonConsole\n",
    "\n",
    "import numpy as np\n",
    "import pandas as pd"
   ]
  },
  {
   "cell_type": "code",
   "execution_count": 2,
   "id": "educational-armstrong",
   "metadata": {},
   "outputs": [],
   "source": [
    "def amat_entry(amat,r,c,val):\n",
    "    \"\"\"\n",
    "    changes the (r,c) and (c,r) values of matrix \"amat\" to \"val\"\n",
    "    \"\"\"\n",
    "    amat[r-1][c-1] = amat[c-1][r-1]= val\n",
    "    return"
   ]
  },
  {
   "cell_type": "code",
   "execution_count": 3,
   "id": "0e3ec8e9",
   "metadata": {},
   "outputs": [],
   "source": [
    "def amat_edit(amat,r,c,delta):\n",
    "    \"\"\"\n",
    "    changes the (r,c) and (c,r) values of matrix \"amat\" to \"val\"\n",
    "    \"\"\"\n",
    "    amat[r-1][c-1] += delta\n",
    "    if r != c:\n",
    "        amat[c-1][r-1] += delta\n",
    "    return"
   ]
  },
  {
   "cell_type": "code",
   "execution_count": 4,
   "id": "large-pacific",
   "metadata": {},
   "outputs": [],
   "source": [
    "def molFromAdjMat(atoms, amat):\n",
    "    \"\"\"Creates a mol object from an adjacency matrix.\n",
    "    Inputs:\n",
    "    atoms: list of atomic numbers of atoms, by row\n",
    "    amat: adjacency matrix. Has to have same length as atoms (obviously)\n",
    "    Output: mol object\n",
    "    Might need to add a try clause for sanitize\"\"\"\n",
    "    \n",
    "    m = Chem.RWMol()\n",
    "    # add in the separate atoms\n",
    "    for a in atoms: m.AddAtom(Atom(a))\n",
    "    side_len = len(amat)    \n",
    "    for r in range(side_len):\n",
    "        for c in range(r+1,side_len):\n",
    "            bond_order = amat[r][c]\n",
    "            if bond_order > 0:\n",
    "                if bond_order == 1: m.AddBond(r,c,BondType.SINGLE)\n",
    "                if bond_order == 2: m.AddBond(r,c,BondType.DOUBLE)\n",
    "                if bond_order == 3: m.AddBond(r,c,BondType.TRIPLE)\n",
    "\n",
    "    Chem.SanitizeMol(m)\n",
    "    return m"
   ]
  },
  {
   "cell_type": "code",
   "execution_count": 5,
   "id": "manual-tsunami",
   "metadata": {},
   "outputs": [],
   "source": [
    "def mol_with_atom_index(mol):\n",
    "    for atom in mol.GetAtoms():\n",
    "        atom.SetAtomMapNum(atom.GetIdx()+1)\n",
    "    return mol"
   ]
  },
  {
   "cell_type": "code",
   "execution_count": 6,
   "id": "fe9f4928",
   "metadata": {},
   "outputs": [],
   "source": [
    "def make_changelogs(data_file_path):\n",
    "    data = pd.read_csv(data_file_path)[[\"bond\",\"edit\",\"file\"]]\n",
    "    data = data[~data.bond.isnull()].copy()\n",
    "    \n",
    "    changelogs = []\n",
    "    entry = {}\n",
    "    bond_edits = ()\n",
    "    for r in data.itertuples():\n",
    "\n",
    "\n",
    "        # reset entry dict at new step\n",
    "        if r[1] == \"step\":\n",
    "            entry[\"edits\"] = bond_edits\n",
    "            changelogs.append(entry)\n",
    "            entry = {}\n",
    "\n",
    "        # if padding, fill th\n",
    "        elif r[1] == \"pad\":\n",
    "            pad_atoms = r[3].split(\" \")\n",
    "            pad_atoms = [int(i) for i in pad_atoms]\n",
    "\n",
    "            if pad_atoms == [0]:\n",
    "                entry[\"pad\"] = 0\n",
    "                entry[\"pad_elem\"] = []\n",
    "\n",
    "            else:\n",
    "                entry[\"pad\"] = len(pad_atoms)\n",
    "                entry[\"pad_elem\"] = pad_atoms\n",
    "\n",
    "            # make the empty bond edits here to prepare\n",
    "            bond_edits = []\n",
    "        else:\n",
    "            bond_edits.append((int(r[1]),int(r[2]),int(r[3])))\n",
    "    \n",
    "    return changelogs"
   ]
  },
  {
   "cell_type": "code",
   "execution_count": 7,
   "id": "9afac3bf",
   "metadata": {},
   "outputs": [],
   "source": [
    "def apply_changes(amat_init, atoms_init,changelogs):\n",
    "    seq_out = [amat_init.copy()]\n",
    "    amat = amat_init.copy()\n",
    "    atoms = atoms_init.copy()\n",
    "    for i in changelogs:\n",
    "        try:\n",
    "            \n",
    "            pad_amt = i[\"pad\"]\n",
    "\n",
    "            if pad_amt > 0:\n",
    "                amat = np.pad(amat,[(0, pad_amt), (0, pad_amt)],  mode=\"constant\")\n",
    "                atoms.extend(i[\"pad_elem\"])\n",
    "\n",
    "            for ed in i[\"edits\"]:\n",
    "                amat_edit(amat,ed[0],ed[1],ed[2])\n",
    "            seq_out.append(amat.copy())\n",
    "            \n",
    "        except:\n",
    "            print(i)\n",
    "        \n",
    "    seq_out.reverse()\n",
    "    \n",
    "    all_sizes = [m.shape[0] for m in seq_out]\n",
    "    max_size = max(all_sizes)\n",
    "\n",
    "    output_padded = []\n",
    "\n",
    "    for mat in seq_out:\n",
    "        mat_size = mat.shape[0]\n",
    "        if mat_size < max_size:\n",
    "            pad_size = max_size - mat_size \n",
    "            output_padded.append(np.pad(mat, [(0, pad_size), (0, pad_size)], mode='constant'))\n",
    "        else:\n",
    "            output_padded.append(mat)\n",
    "            \n",
    "        \n",
    "    return output_padded,atoms\n",
    "    "
   ]
  },
  {
   "cell_type": "markdown",
   "id": "miniature-antigua",
   "metadata": {},
   "source": [
    "## initialize"
   ]
  },
  {
   "cell_type": "code",
   "execution_count": 8,
   "id": "presidential-controversy",
   "metadata": {},
   "outputs": [],
   "source": [
    "target = Chem.MolFromSmiles(\"C[C@H]1CCC2=C(CCCC2(C)C)C3=C1OC4=C3C=C(C=C4)O\")"
   ]
  },
  {
   "cell_type": "code",
   "execution_count": 9,
   "id": "approximate-makeup",
   "metadata": {},
   "outputs": [],
   "source": [
    "target_atoms = [atm.GetAtomicNum() for atm in target.GetAtoms()]\n",
    "target_symbs = [atm.GetSymbol() for atm in target.GetAtoms()]"
   ]
  },
  {
   "cell_type": "code",
   "execution_count": 10,
   "id": "43f0bcd1",
   "metadata": {},
   "outputs": [],
   "source": [
    "Chem.Kekulize(target,clearAromaticFlags=True)"
   ]
  },
  {
   "cell_type": "code",
   "execution_count": 11,
   "id": "scenic-plymouth",
   "metadata": {},
   "outputs": [],
   "source": [
    "amat = Chem.GetAdjacencyMatrix(target,useBO=True,force=True)\n",
    "amat_init = Chem.GetAdjacencyMatrix(target,useBO=True,force=True)\n"
   ]
  },
  {
   "cell_type": "code",
   "execution_count": 12,
   "id": "suspended-sunglasses",
   "metadata": {},
   "outputs": [
    {
     "data": {
      "image/png": "[encoded data removed]",
      "text/plain": [
       "<rdkit.Chem.rdchem.Mol at 0x1aaf6232220>"
      ]
     },
     "execution_count": 12,
     "metadata": {},
     "output_type": "execute_result"
    }
   ],
   "source": [
    "mol_with_atom_index(target)"
   ]
  },
  {
   "cell_type": "code",
   "execution_count": 16,
   "id": "ac1e0728",
   "metadata": {},
   "outputs": [
    {
     "data": {
      "text/plain": [
       "[{'edits': ()},\n",
       " {'pad': 0, 'pad_elem': [], 'edits': [(2, 2, 1)]},\n",
       " {'pad': 1, 'pad_elem': [6], 'edits': [(22, 23, 1)]}]"
      ]
     },
     "execution_count": 16,
     "metadata": {},
     "output_type": "execute_result"
    }
   ],
   "source": [
    "changelogs = make_changelogs(\"./edit_files/edits_frondosin_danishefsky.csv\")\n",
    "changelogs[:3]"
   ]
  },
  {
   "cell_type": "code",
   "execution_count": 17,
   "id": "375f5f42",
   "metadata": {},
   "outputs": [],
   "source": [
    "# check the changelogs here. usually the [1:] is because the first entry is blank.\n",
    "out_1,final_atoms_1 = apply_changes(amat_init, target_atoms,changelogs[1:])"
   ]
  },
  {
   "cell_type": "code",
   "execution_count": 19,
   "id": "a03f6ac4",
   "metadata": {},
   "outputs": [],
   "source": [
    "# adjusting, for when 2 concession atoms were added at once and should be bonded together\n",
    "for i in out_1:\n",
    "    amat_entry(i,33,34,1)"
   ]
  },
  {
   "cell_type": "code",
   "execution_count": 20,
   "id": "b50ae311",
   "metadata": {},
   "outputs": [
    {
     "name": "stdout",
     "output_type": "stream",
     "text": [
      "C.C.C.C=CN.CC(C)O.COC(=O)CCCC=CCO.COc1ccc(OC)cc1.I.O.[SiH4]\n",
      "C.C.C.C=CN.CC(C)O.COC(=O)CCCC1OC1CO.COc1ccc(OC)cc1.I.[SiH4]\n",
      "C.C.C=CN.CC(C)O.COC(=O)CCCC(C)C(O)CO.COc1ccc(OC)cc1.I.[SiH4]\n",
      "C.C.C=CN.CC(C)O.CO.COC(=O)CCCC(C)C=O.COc1ccc(OC)cc1.I.[SiH4]\n",
      "C.C#CC(C)CCCC(=O)OC.C=CN.CC(C)O.CO.COc1ccc(OC)cc1.I.O.[SiH4]\n",
      "C.C#CC(C)CCCC(=O)OC.C=CN.CC(C)O.CO.COc1ccc(OC)c(I)c1.O.[SiH4]\n",
      "C.C.C#CC(C)CCCC(=O)OC.C=CN.CC(C)O.CO.COc1ccc(O)c(I)c1.O.[SiH4]\n",
      "C.C.C=CN.CC(C)O.CO.COC(=O)CCCC(C)C#Cc1cc(OC)ccc1O.I.O.[SiH4]\n",
      "C.C.C=CN.CC(C)O.CO.COC(=O)CCCC(C)c1cc2cc(OC)ccc2o1.I.O.[SiH4]\n",
      "C.C.C.C=CN.CC(C)O.CO.COc1ccc2oc(C(C)CCCC(=O)O)cc2c1.I.O.[SiH4]\n",
      "C.C.C.C=CN.CC(C)O.CO.COc1ccc2oc3c(c2c1)C(=O)CCCC3C.I.O.O.[SiH4]\n",
      "C.C.C.C=CN.CC(C)O.CO.COc1ccc2oc3c(c2c1)C(O[SiH3])=CCCC3C.I.O.O\n",
      "C.C.C.C=CN.CO.COc1ccc2oc3c(c2c1)C(=O)C(C(C)(C)O)CCC3C.I.O.O.[SiH4]\n",
      "C.C.C.C=CN.CO.COc1ccc2oc3c(c2c1)C(=O)C(=C(C)C)CCC3C.I.O.O.O.[SiH4]\n",
      "C.C.C=C1C(=C(C)C)CCC(C)c2oc3ccc(OC)cc3c21.C=CN.CO.I.O.O.O.O.[SiH4]\n",
      "C.C.CO.COc1ccc2oc3c(c2c1)C1=C(CCC3C)C(C)(C)C(N)CC1.I.O.O.O.O.[SiH4]\n",
      "C.C.CO.COc1ccc2oc3c(c2c1)C1=C(CCC3C)C(C)(C)CCC1.I.N.O.O.O.O.[SiH4]\n",
      "C.C.C.CC1CCC2=C(CCCC2(C)C)c2c1oc1ccc(O)cc21.CO.I.N.O.O.O.O.[SiH4]\n",
      "C.C.C.CC1CCC2=C(CCCC2(C)C)c2c1oc1ccc(O)cc21.CO.I.N.O.O.O.O.[SiH4]\n"
     ]
    }
   ],
   "source": [
    "draw_mols = []\n",
    "from rdkit.Chem.Draw import *\n",
    "for i in range(len(out_1)):\n",
    "    m = molFromAdjMat(final_atoms_1,out_1[i])\n",
    "    Chem.SanitizeMol(m)\n",
    "    draw_mols.append(m)\n",
    "    print(Chem.MolToSmiles(m))"
   ]
  },
  {
   "cell_type": "code",
   "execution_count": 21,
   "id": "9cff0336",
   "metadata": {},
   "outputs": [],
   "source": [
    "save_dict = {\"amats\":out_1[:-1],\"atoms\":final_atoms_1}\n",
    "np.savez(\"./matrices/frondosin_danishefsky\",**save_dict)"
   ]
  }
 ],
 "metadata": {
  "kernelspec": {
   "display_name": "Python 3 (ipykernel)",
   "language": "python",
   "name": "python3"
  },
  "language_info": {
   "codemirror_mode": {
    "name": "ipython",
    "version": 3
   },
   "file_extension": ".py",
   "mimetype": "text/x-python",
   "name": "python",
   "nbconvert_exporter": "python",
   "pygments_lexer": "ipython3",
   "version": "3.9.7"
  }
 },
 "nbformat": 4,
 "nbformat_minor": 5
}
