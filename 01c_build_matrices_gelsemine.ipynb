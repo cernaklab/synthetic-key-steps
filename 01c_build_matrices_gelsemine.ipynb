{
 "cells": [
  {
   "cell_type": "code",
   "execution_count": 1,
   "id": "overall-paradise",
   "metadata": {},
   "outputs": [],
   "source": [
    "from rdkit import Chem\n",
    "from rdkit.Chem.Draw import IPythonConsole\n",
    "from rdkit.Chem import Atom, BondType\n",
    "\n",
    "import matplotlib\n",
    "import matplotlib.pyplot as plt\n",
    "import numpy as np\n",
    "\n",
    "from matplotlib import cm\n",
    "from matplotlib.colors import ListedColormap\n",
    "\n",
    "import pandas as pd"
   ]
  },
  {
   "cell_type": "code",
   "execution_count": 2,
   "id": "educational-armstrong",
   "metadata": {},
   "outputs": [],
   "source": [
    "def amat_entry(amat,r,c,val):\n",
    "    \"\"\"\n",
    "    changes the (r,c) and (c,r) values of matrix \"amat\" to \"val\"\n",
    "    \"\"\"\n",
    "    amat[r-1][c-1] = amat[c-1][r-1]= val\n",
    "    return"
   ]
  },
  {
   "cell_type": "code",
   "execution_count": 3,
   "id": "0e3ec8e9",
   "metadata": {},
   "outputs": [],
   "source": [
    "def amat_edit(amat,r,c,delta):\n",
    "    \"\"\"\n",
    "    changes the (r,c) and (c,r) values of matrix \"amat\" to \"val\"\n",
    "    \"\"\"\n",
    "    amat[r-1][c-1] += delta\n",
    "    if r != c:\n",
    "        amat[c-1][r-1] += delta\n",
    "    return"
   ]
  },
  {
   "cell_type": "code",
   "execution_count": 4,
   "id": "large-pacific",
   "metadata": {},
   "outputs": [],
   "source": [
    "def molFromAdjMat(atoms, amat,sanitize=True):\n",
    "    \"\"\"Creates a mol object from an adjacency matrix.\n",
    "    Inputs:\n",
    "    atoms: list of atomic numbers of atoms, by row\n",
    "    amat: adjacency matrix. Has to have same length as atoms (obviously)\n",
    "    Output: mol object\n",
    "    Might need to add a try clause for sanitize\"\"\"\n",
    "    \n",
    "    m = Chem.RWMol()\n",
    "    # add in the separate atoms\n",
    "    for a in atoms: m.AddAtom(Atom(a))\n",
    "    side_len = len(amat)    \n",
    "    for r in range(side_len):\n",
    "        for c in range(r+1,side_len):\n",
    "            bond_order = amat[r][c]\n",
    "            if bond_order > 0:\n",
    "                if bond_order == 1: m.AddBond(r,c,BondType.SINGLE)\n",
    "                if bond_order == 2: m.AddBond(r,c,BondType.DOUBLE)\n",
    "                if bond_order == 3: m.AddBond(r,c,BondType.TRIPLE)\n",
    "\n",
    "    if sanitize:\n",
    "        Chem.SanitizeMol(m)\n",
    "    return m"
   ]
  },
  {
   "cell_type": "code",
   "execution_count": 5,
   "id": "manual-tsunami",
   "metadata": {},
   "outputs": [],
   "source": [
    "def mol_with_atom_index(mol):\n",
    "    for atom in mol.GetAtoms():\n",
    "        atom.SetAtomMapNum(atom.GetIdx()+1)\n",
    "    return mol"
   ]
  },
  {
   "cell_type": "code",
   "execution_count": 6,
   "id": "03ce9263",
   "metadata": {},
   "outputs": [],
   "source": [
    "def make_changelogs(data_file_path):\n",
    "    data = pd.read_csv(data_file_path)[[\"bond\",\"edit\",\"file\"]]\n",
    "    data = data[~data.bond.isnull()].copy()\n",
    "    \n",
    "    changelogs = []\n",
    "    entry = {}\n",
    "    bond_edits = ()\n",
    "    for r in data.itertuples():\n",
    "\n",
    "\n",
    "        # reset entry dict at new step\n",
    "        if r[1] == \"step\":\n",
    "            entry[\"edits\"] = bond_edits\n",
    "            changelogs.append(entry)\n",
    "            entry = {}\n",
    "\n",
    "        # if padding, fill th\n",
    "        elif r[1] == \"pad\":\n",
    "            pad_atoms = r[3].split(\" \")\n",
    "            pad_atoms = [int(i) for i in pad_atoms]\n",
    "\n",
    "            if pad_atoms == [0]:\n",
    "                entry[\"pad\"] = 0\n",
    "                entry[\"pad_elem\"] = []\n",
    "\n",
    "            else:\n",
    "                entry[\"pad\"] = len(pad_atoms)\n",
    "                entry[\"pad_elem\"] = pad_atoms\n",
    "\n",
    "            # make the empty bond edits here to prepare\n",
    "            bond_edits = []\n",
    "        else:\n",
    "            bond_edits.append((int(r[1]),int(r[2]),int(r[3])))\n",
    "    \n",
    "    return changelogs"
   ]
  },
  {
   "cell_type": "code",
   "execution_count": 7,
   "id": "5bd6d288",
   "metadata": {},
   "outputs": [],
   "source": [
    "def apply_changes(amat_init, atoms_init,changelogs):\n",
    "    seq_out = [amat_init.copy()]\n",
    "    amat = amat_init.copy()\n",
    "    atoms = atoms_init.copy()\n",
    "    for i in changelogs:\n",
    "#         try:\n",
    "            \n",
    "        pad_amt = i[\"pad\"]\n",
    "\n",
    "        if pad_amt > 0:\n",
    "            amat = np.pad(amat,[(0, pad_amt), (0, pad_amt)],  mode=\"constant\")\n",
    "            atoms.extend(i[\"pad_elem\"])\n",
    "\n",
    "        for ed in i[\"edits\"]:\n",
    "            amat_edit(amat,ed[0],ed[1],ed[2])\n",
    "        seq_out.append(amat.copy())\n",
    "            \n",
    "#         except:\n",
    "#             print(i)\n",
    "        \n",
    "    seq_out.reverse()\n",
    "    \n",
    "    all_sizes = [m.shape[0] for m in seq_out]\n",
    "    max_size = max(all_sizes)\n",
    "\n",
    "    output_padded = []\n",
    "\n",
    "    for mat in seq_out:\n",
    "        mat_size = mat.shape[0]\n",
    "        if mat_size < max_size:\n",
    "            pad_size = max_size - mat_size \n",
    "            output_padded.append(np.pad(mat, [(0, pad_size), (0, pad_size)], mode='constant'))\n",
    "        else:\n",
    "            output_padded.append(mat)\n",
    "            \n",
    "        \n",
    "    return output_padded,atoms\n",
    "    "
   ]
  },
  {
   "cell_type": "markdown",
   "id": "miniature-antigua",
   "metadata": {},
   "source": [
    "## initialize"
   ]
  },
  {
   "cell_type": "code",
   "execution_count": 8,
   "id": "presidential-controversy",
   "metadata": {},
   "outputs": [],
   "source": [
    "target_smiles = \"CN1C(C2CO3)[C@@H]4[C@]5(C(C=CC=C6)=C6NC5=O)[C@H]3C[C@H]2[C@]4(C=C)C1\"\n",
    "target = Chem.MolToSmiles(Chem.MolFromSmiles(target_smiles))\n",
    "target = Chem.MolFromSmiles(target)\n",
    "Chem.Kekulize(target,clearAromaticFlags=True)"
   ]
  },
  {
   "cell_type": "code",
   "execution_count": 9,
   "id": "approximate-makeup",
   "metadata": {},
   "outputs": [],
   "source": [
    "target_atoms = [atm.GetAtomicNum() for atm in target.GetAtoms()]\n",
    "target_symbs = [atm.GetSymbol() for atm in target.GetAtoms()]"
   ]
  },
  {
   "cell_type": "code",
   "execution_count": 10,
   "id": "scenic-plymouth",
   "metadata": {},
   "outputs": [],
   "source": [
    "amat = Chem.GetAdjacencyMatrix(target,useBO=True,force=True)\n",
    "amat_init = Chem.GetAdjacencyMatrix(target,useBO=True,force=True)"
   ]
  },
  {
   "cell_type": "code",
   "execution_count": 11,
   "id": "suspended-sunglasses",
   "metadata": {},
   "outputs": [
    {
     "data": {
      "image/png": "[encoded data removed]",
      "text/plain": [
       "<rdkit.Chem.rdchem.Mol at 0x1f7dee08ca0>"
      ]
     },
     "execution_count": 11,
     "metadata": {},
     "output_type": "execute_result"
    }
   ],
   "source": [
    "mol_with_atom_index(target)"
   ]
  },
  {
   "cell_type": "markdown",
   "id": "associate-dietary",
   "metadata": {},
   "source": [
    "### start the reversing\n"
   ]
  },
  {
   "cell_type": "code",
   "execution_count": 12,
   "id": "dd8d7590",
   "metadata": {},
   "outputs": [
    {
     "data": {
      "text/plain": [
       "[{'edits': ()},\n",
       " {'pad': 0,\n",
       "  'pad_elem': [],\n",
       "  'edits': [(3, 3, 1),\n",
       "   (7, 7, 1),\n",
       "   (8, 8, 1),\n",
       "   (11, 11, 1),\n",
       "   (13, 13, 1),\n",
       "   (14, 14, 1),\n",
       "   (24, 24, 1)]},\n",
       " {'pad': 1, 'pad_elem': [8], 'edits': [(9, 10, -1), (9, 25, 1)]}]"
      ]
     },
     "execution_count": 12,
     "metadata": {},
     "output_type": "execute_result"
    }
   ],
   "source": [
    "changelogs = make_changelogs(\"./edit_files/edits_gelsemine_synthia.csv\")\n",
    "changelogs[:3]"
   ]
  },
  {
   "cell_type": "code",
   "execution_count": 13,
   "id": "6d5d0185",
   "metadata": {},
   "outputs": [],
   "source": [
    "out_1,final_atoms_1 = apply_changes(amat_init, target_atoms,changelogs[1:])"
   ]
  },
  {
   "cell_type": "code",
   "execution_count": 14,
   "id": "b50ae311",
   "metadata": {},
   "outputs": [
    {
     "name": "stdout",
     "output_type": "stream",
     "text": [
      "0\n",
      "C.C#CC.C=CC=O.CN.COC(C=O)=C1C(=O)Nc2ccccc21.O=CCCBr\n",
      "1\n",
      "C.C.C#CC.C=CC(N)C(C=O)CBr.COC(C=O)=C1C(=O)Nc2ccccc21.O\n",
      "2\n",
      "C.C.C#CC.C=CC(N)C(CO)CBr.COC(C=O)=C1C(=O)Nc2ccccc21.O\n",
      "3\n",
      "C.C.C#CCNC(C=C)C(CO)CBr.COC(C=O)=C1C(=O)Nc2ccccc21.O\n",
      "4\n",
      "C.C.C=CC1=CC(C(CO)CBr)NC1.COC(C=O)=C1C(=O)Nc2ccccc21.O\n",
      "5\n",
      "Br.C.C.C=CC1=CC(C(C=CC(OC)=C2C(=O)Nc3ccccc32)CO)NC1.O.O\n",
      "6\n",
      "Br.C.C.C=CC12CNC3C(CO)C1C=C(OC)C1(C(=O)Nc4ccccc41)C32.O.O\n",
      "7\n",
      "Br.C.C=CC12CN(C)C3C(CO)C1C=C(OC)C1(C(=O)Nc4ccccc41)C32.O.O\n",
      "8\n",
      "Br.C.C.C=CC12CN(C)C3C(CO)C1CC(=O)C1(C(=O)Nc4ccccc41)C32.O.O\n",
      "9\n",
      "Br.C.C.C=CC12CN(C)C3C(CO)C1CC(O)C1(C(=O)Nc4ccccc41)C32.O.O\n",
      "10\n",
      "Br.C.C.C=CC12CN(C)C3C4COC(CC41)C1(C(=O)Nc4ccccc41)C32.O.O.O\n",
      "11\n",
      "Br.C.C.C=CC12CN(C)C3C4COC(CC41)C1(C(=O)Nc4ccccc41)C32.O.O.O\n"
     ]
    }
   ],
   "source": [
    "from rdkit.Chem.Draw import *\n",
    "for i in range( len(out_1)):\n",
    "    print(i)\n",
    "    m = molFromAdjMat(final_atoms_1,out_1[i],sanitize=False)\n",
    "    Chem.SanitizeMol(m)\n",
    "    print(Chem.MolToSmiles(m))"
   ]
  },
  {
   "cell_type": "code",
   "execution_count": 15,
   "id": "adef32c9",
   "metadata": {},
   "outputs": [],
   "source": [
    "save_dict = {\"amats\":out_1[:-1],\"atoms\":final_atoms_1}\n"
   ]
  },
  {
   "cell_type": "code",
   "execution_count": 16,
   "id": "18b9c39b",
   "metadata": {},
   "outputs": [],
   "source": [
    "np.savez(\"./matrices/gelsemine_synthia\",**save_dict)"
   ]
  }
 ],
 "metadata": {
  "kernelspec": {
   "display_name": "Python 3 (ipykernel)",
   "language": "python",
   "name": "python3"
  },
  "language_info": {
   "codemirror_mode": {
    "name": "ipython",
    "version": 3
   },
   "file_extension": ".py",
   "mimetype": "text/x-python",
   "name": "python",
   "nbconvert_exporter": "python",
   "pygments_lexer": "ipython3",
   "version": "3.9.7"
  }
 },
 "nbformat": 4,
 "nbformat_minor": 5
}
