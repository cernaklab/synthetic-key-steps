{
 "cells": [
  {
   "cell_type": "code",
   "execution_count": 1,
   "id": "overall-paradise",
   "metadata": {},
   "outputs": [],
   "source": [
    "from rdkit import Chem\n",
    "from rdkit.Chem.Draw import IPythonConsole\n",
    "\n",
    "import numpy as np\n",
    "\n",
    "import pandas as pd\n",
    "import amat_utils"
   ]
  },
  {
   "cell_type": "markdown",
   "id": "7a190418",
   "metadata": {},
   "source": [
    "## initialize"
   ]
  },
  {
   "cell_type": "markdown",
   "id": "176ef45d",
   "metadata": {},
   "source": [
    "create the mol with atom numbering for the target"
   ]
  },
  {
   "cell_type": "code",
   "execution_count": 2,
   "id": "presidential-controversy",
   "metadata": {},
   "outputs": [],
   "source": [
    "target_smiles = \"O=C([C@H]1C)O[C@@]2([H])[C@@]1([H])[C@]3([H])CCC(N3CCC2)=O\"\n",
    "target = Chem.MolFromSmiles(target_smiles)\n",
    "Chem.Kekulize(target,clearAromaticFlags=True)"
   ]
  },
  {
   "cell_type": "code",
   "execution_count": 3,
   "id": "approximate-makeup",
   "metadata": {},
   "outputs": [],
   "source": [
    "target_atoms = [atm.GetAtomicNum() for atm in target.GetAtoms()]\n",
    "target_symbs = [atm.GetSymbol() for atm in target.GetAtoms()]"
   ]
  },
  {
   "cell_type": "code",
   "execution_count": 4,
   "id": "scenic-plymouth",
   "metadata": {},
   "outputs": [],
   "source": [
    "amat = Chem.GetAdjacencyMatrix(target,useBO=True,force=True)\n",
    "amat_init = Chem.GetAdjacencyMatrix(target,useBO=True,force=True)"
   ]
  },
  {
   "cell_type": "code",
   "execution_count": 5,
   "id": "7301f57f",
   "metadata": {},
   "outputs": [
    {
     "data": {
      "image/png": "[encoded data removed]",
      "text/plain": [
       "<rdkit.Chem.rdchem.Mol at 0x1a247795ca0>"
      ]
     },
     "execution_count": 5,
     "metadata": {},
     "output_type": "execute_result"
    }
   ],
   "source": [
    "amat_utils.mol_with_atom_index(target)"
   ]
  },
  {
   "cell_type": "markdown",
   "id": "ae48d50a",
   "metadata": {},
   "source": [
    "### Synthia Mannich "
   ]
  },
  {
   "cell_type": "markdown",
   "id": "aa78b58a",
   "metadata": {},
   "source": [
    "make the change-log from the csv input. \n",
    "Meant as an intemediate to generate adjacency matrices for all synthetic intermediates"
   ]
  },
  {
   "cell_type": "code",
   "execution_count": 6,
   "id": "9a9d72bd",
   "metadata": {},
   "outputs": [
    {
     "data": {
      "text/plain": [
       "[{'edits': ()},\n",
       " {'pad': 0,\n",
       "  'pad_elem': [],\n",
       "  'edits': [(3, 3, 1), (6, 6, 1), (7, 7, 1), (8, 8, 1)]},\n",
       " {'pad': 1, 'pad_elem': [35], 'edits': [(12, 13, -1), (13, 17, 1)]}]"
      ]
     },
     "execution_count": 6,
     "metadata": {},
     "output_type": "execute_result"
    }
   ],
   "source": [
    "changelogs = amat_utils.make_changelogs(\"./edit_files/edits_stemo_synthia_mannich.csv\")\n",
    "changelogs[:3]\n",
    "# check the changelogs here."
   ]
  },
  {
   "cell_type": "markdown",
   "id": "787eed85",
   "metadata": {},
   "source": [
    "generate matrices"
   ]
  },
  {
   "cell_type": "code",
   "execution_count": 7,
   "id": "65fcb228",
   "metadata": {},
   "outputs": [],
   "source": [
    "# usually the [1:] is because the first entry is blank.\n",
    "out_1,final_atoms_1 = amat_utils.apply_changes(amat_init, target_atoms,changelogs[1:])"
   ]
  },
  {
   "cell_type": "markdown",
   "id": "25cd4657",
   "metadata": {},
   "source": [
    "this is for checking that the mol objects don't break valency rules"
   ]
  },
  {
   "cell_type": "code",
   "execution_count": 8,
   "id": "68da6e59",
   "metadata": {},
   "outputs": [
    {
     "name": "stdout",
     "output_type": "stream",
     "text": [
      "0\n",
      "Br.C.C=CC.C=CCC=O.CN.O.O=CCCC(=O)O\n",
      "1\n",
      "Br.C=CC.CC(CO)CC=O.CN.O=CCCC(=O)O\n",
      "2\n",
      "Br.C.C=CC.CC(CO)C(C=O)C(N)CCC(=O)O.O\n",
      "3\n",
      "Br.C.C=CCC(O)C(C(C)CO)C(N)CCC(=O)O.O\n",
      "4\n",
      "Br.C.C=CCC(O)C(C(C)CO)C1CCC(=O)N1.O.O\n",
      "5\n",
      "Br.C.C=CCC1OC(=O)C(C)C1C1CCC(=O)N1.O.O\n",
      "6\n",
      "C.CC1C(=O)OC(CCCBr)C1C1CCC(=O)N1.O.O\n",
      "7\n",
      "Br.C.CC1C(=O)OC2CCCN3C(=O)CCC3C21.O.O\n",
      "8\n",
      "Br.C.CC1C(=O)OC2CCCN3C(=O)CCC3C21.O.O\n"
     ]
    }
   ],
   "source": [
    "for i in range(len(out_1)):\n",
    "    print(i)\n",
    "    m = amat_utils.molFromAdjMat(final_atoms_1,out_1[i],sanitize=False)\n",
    "    Chem.SanitizeMol(m)\n",
    "    print(Chem.MolToSmiles(m))"
   ]
  },
  {
   "cell_type": "markdown",
   "id": "068770bf",
   "metadata": {},
   "source": [
    "save matrices as npz file"
   ]
  },
  {
   "cell_type": "code",
   "execution_count": 9,
   "id": "f91dd28d",
   "metadata": {},
   "outputs": [],
   "source": [
    "save_dict = {\"amats\":out_1[:-1],\"atoms\":final_atoms_1}\n",
    "np.savez(\"./matrices/stemo_synthia_mannich\",**save_dict)"
   ]
  },
  {
   "cell_type": "markdown",
   "id": "3636f1eb",
   "metadata": {},
   "source": [
    "### Experimental Mannich "
   ]
  },
  {
   "cell_type": "markdown",
   "id": "20f178b6",
   "metadata": {},
   "source": [
    "these subsequent cells are doing the same thing to the other routes"
   ]
  },
  {
   "cell_type": "code",
   "execution_count": 10,
   "id": "bb8c1642",
   "metadata": {},
   "outputs": [
    {
     "data": {
      "text/plain": [
       "[{'edits': ()},\n",
       " {'pad': 0,\n",
       "  'pad_elem': [],\n",
       "  'edits': [(3, 3, 1), (6, 6, 1), (7, 7, 1), (8, 8, 1)]},\n",
       " {'pad': 6,\n",
       "  'pad_elem': [35, 6, 8, 8, 8, 8],\n",
       "  'edits': [(3, 4, -1), (3, 3, -1)]}]"
      ]
     },
     "execution_count": 10,
     "metadata": {},
     "output_type": "execute_result"
    }
   ],
   "source": [
    "changelogs = amat_utils.make_changelogs(\"./edit_files/edits_stemo_exp_mannich.csv\")\n",
    "changelogs[:3]"
   ]
  },
  {
   "cell_type": "code",
   "execution_count": 11,
   "id": "d6fa6776",
   "metadata": {},
   "outputs": [],
   "source": [
    "out_1,final_atoms_1 = amat_utils.apply_changes(amat_init, target_atoms,changelogs[1:])"
   ]
  },
  {
   "cell_type": "code",
   "execution_count": 12,
   "id": "9765afd2",
   "metadata": {},
   "outputs": [
    {
     "name": "stdout",
     "output_type": "stream",
     "text": [
      "0\n",
      "Br.C.C=CC.CN.O.O=CCCC(=O)O.O=CCCC(=O)O\n",
      "1\n",
      "Br.C.C=CCC1OC(=O)CC1C(CCC(=O)O)NC.O.O.O\n",
      "2\n",
      "Br.C.C=CCC1OC(=O)CC1C1CCC(=O)N1C.O.O.O.O\n",
      "3\n",
      "Br.C.CN1C(=O)CCC1C1CC(=O)OC1CCCO.O.O.O\n",
      "4\n",
      "C.C.O.O.O.O.O=C1CCC(C2CC(=O)OC2CCCBr)N1\n",
      "5\n",
      "Br.C.C.O.O.O.O.O=C1CC2C(CCCN3C(=O)CCC23)O1\n",
      "6\n",
      "Br.C.CC1C(=O)OC2CCCN3C(=O)CCC3C21.O.O.O.O\n",
      "7\n",
      "Br.C.CC1C(=O)OC2CCCN3C(=O)CCC3C21.O.O.O.O\n"
     ]
    }
   ],
   "source": [
    "# this is for checking that the mol objects don't break valency rules\n",
    "for i in range( len(out_1)):\n",
    "    print(i)\n",
    "    m = amat_utils.molFromAdjMat(final_atoms_1,out_1[i],sanitize=True)\n",
    "    Chem.SanitizeMol(m)\n",
    "    print(Chem.MolToSmiles(m))"
   ]
  },
  {
   "cell_type": "code",
   "execution_count": 13,
   "id": "bc11a85a",
   "metadata": {},
   "outputs": [],
   "source": [
    "save_dict = {\"amats\":out_1[:-1],\"atoms\":final_atoms_1}\n",
    "np.savez(\"./matrices/stemo_exp_mannich\",**save_dict)"
   ]
  },
  {
   "cell_type": "markdown",
   "id": "acaadd8e",
   "metadata": {},
   "source": [
    "### Synthia Schmidt"
   ]
  },
  {
   "cell_type": "code",
   "execution_count": 14,
   "id": "5000b98f",
   "metadata": {},
   "outputs": [
    {
     "data": {
      "text/plain": [
       "[{'edits': ()},\n",
       " {'pad': 0,\n",
       "  'pad_elem': [],\n",
       "  'edits': [(3, 3, 1), (6, 6, 1), (7, 7, 1), (8, 8, 1)]},\n",
       " {'pad': 0, 'pad_elem': [], 'edits': [(3, 4, -1), (3, 3, -1)]}]"
      ]
     },
     "execution_count": 14,
     "metadata": {},
     "output_type": "execute_result"
    }
   ],
   "source": [
    "changelogs = amat_utils.make_changelogs(\"./edit_files/edits_stemo_synthia_cyclobutanone.csv\")\n",
    "changelogs[:3]"
   ]
  },
  {
   "cell_type": "code",
   "execution_count": 15,
   "id": "7b4fea81",
   "metadata": {},
   "outputs": [
    {
     "name": "stdout",
     "output_type": "stream",
     "text": [
      "0\n",
      "C.C=CC1=CCC1.CCl.N.O.O.O=C1CC=CO1\n",
      "1\n",
      "C.CCl.N.O.O.O=C1CC2C(CC=C3CCC32)O1\n",
      "2\n",
      "C.CCl.N.O=CCC1OC(=O)CC1C1CCC1=O\n",
      "3\n",
      "C.N.O.O=C1CC(C2CCC2=O)C(CC=CCl)O1\n",
      "4\n",
      "C.N.O.O=C1CC(C2CCC2=O)C(CCCCl)O1\n",
      "5\n",
      "C.O.O=C1CCC(C2CC(=O)OC2CCCCl)N1\n",
      "6\n",
      "C.Cl.O.O=C1CC2C(CCCN3C(=O)CCC23)O1\n",
      "7\n",
      "CC1C(=O)OC2CCCN3C(=O)CCC3C21.Cl.O\n",
      "8\n",
      "CC1C(=O)OC2CCCN3C(=O)CCC3C21.Cl.O\n"
     ]
    }
   ],
   "source": [
    "out_1,final_atoms_1 = amat_utils.apply_changes(amat_init, target_atoms,changelogs[1:])\n",
    "\n",
    "# this is for checking that the mol objects don't break valency rules\n",
    "for i in range( len(out_1)):\n",
    "    print(i)\n",
    "    m = amat_utils.molFromAdjMat(final_atoms_1,out_1[i],sanitize=True)\n",
    "    Chem.SanitizeMol(m)\n",
    "    print(Chem.MolToSmiles(m))"
   ]
  },
  {
   "cell_type": "code",
   "execution_count": 16,
   "id": "38407656",
   "metadata": {},
   "outputs": [],
   "source": [
    "save_dict = {\"amats\":out_1[:-1],\"atoms\":final_atoms_1}\n",
    "np.savez(\"./matrices/stemo_synthia_schmidt\",**save_dict)"
   ]
  },
  {
   "cell_type": "markdown",
   "id": "7a0c7bc8",
   "metadata": {},
   "source": [
    "### Experimental Schmidt"
   ]
  },
  {
   "cell_type": "code",
   "execution_count": 17,
   "id": "c60027fa",
   "metadata": {},
   "outputs": [
    {
     "data": {
      "text/plain": [
       "[{'edits': ()},\n",
       " {'pad': 0,\n",
       "  'pad_elem': [],\n",
       "  'edits': [(3, 3, 1), (6, 6, 1), (7, 7, 1), (8, 8, 1)]},\n",
       " {'pad': 2,\n",
       "  'pad_elem': [7, 8],\n",
       "  'edits': [(11, 12, -1), (8, 12, -1), (11, 8, 1), (13, 12, -1), (13, 14, 1)]}]"
      ]
     },
     "execution_count": 17,
     "metadata": {},
     "output_type": "execute_result"
    }
   ],
   "source": [
    "changelogs = amat_utils.make_changelogs(\"./edit_files/edits_stemo_exp_cyclobutanone.csv\")\n",
    "changelogs[:3]"
   ]
  },
  {
   "cell_type": "code",
   "execution_count": 18,
   "id": "41185de7",
   "metadata": {},
   "outputs": [
    {
     "name": "stdout",
     "output_type": "stream",
     "text": [
      "0\n",
      "C.C=CC.N.N=C1CCC1.O.O=C1C=CC(O)O1\n",
      "1\n",
      "C.C=CCC1C=CC(=O)O1.N.N=C1CCC1.O.O\n",
      "2\n",
      "C=CCC1OC(=O)C(C)C1C1CCC1=O.N.N.O\n",
      "3\n",
      "CC1C(=O)OC2CCCN3C(=O)CCC3C21.N.O\n",
      "4\n",
      "CC1C(=O)OC2CCCN3C(=O)CCC3C21.N.O\n"
     ]
    }
   ],
   "source": [
    "out_1,final_atoms_1 = amat_utils.apply_changes(amat_init, target_atoms,changelogs[1:])\n",
    "\n",
    "# this is for checking that the mol objects don't break valency rules\n",
    "for i in range( len(out_1)):\n",
    "    print(i)\n",
    "    m = amat_utils.molFromAdjMat(final_atoms_1,out_1[i],sanitize=True)\n",
    "    Chem.SanitizeMol(m)\n",
    "    print(Chem.MolToSmiles(m))"
   ]
  },
  {
   "cell_type": "code",
   "execution_count": 19,
   "id": "4a000cbf",
   "metadata": {},
   "outputs": [],
   "source": [
    "save_dict = {\"amats\":out_1[:-1],\"atoms\":final_atoms_1}\n",
    "np.savez(\"./matrices/stemo_exp_schmidt\",**save_dict)"
   ]
  },
  {
   "cell_type": "markdown",
   "id": "8337ce7a",
   "metadata": {},
   "source": [
    "### truncated experimental Mannich"
   ]
  },
  {
   "cell_type": "code",
   "execution_count": 20,
   "id": "01d2bb4b",
   "metadata": {},
   "outputs": [],
   "source": [
    "changelogs = amat_utils.make_changelogs(\"./edit_files/edits_stemo_exp_mannich_short.csv\")"
   ]
  },
  {
   "cell_type": "code",
   "execution_count": 21,
   "id": "6d5d0185",
   "metadata": {},
   "outputs": [],
   "source": [
    "# check the changelogs here. usually the [1:] is because the first entry is blank.\n",
    "out_1,final_atoms_1 = amat_utils.apply_changes(amat_init, target_atoms,changelogs[1:])"
   ]
  },
  {
   "cell_type": "code",
   "execution_count": 22,
   "id": "b50ae311",
   "metadata": {},
   "outputs": [
    {
     "name": "stdout",
     "output_type": "stream",
     "text": [
      "0\n",
      "C.C=CC.CN.O=CCCC(=O)O.O=CCCC(=O)O\n",
      "1\n",
      "C.C=CCC1OC(=O)CC1C(CCC(=O)O)NC.O.O\n",
      "2\n",
      "C.C.C=CCC1OC(=O)CC1C1CCC(=O)N1.O.O.O\n",
      "3\n",
      "C.C.O.O.O.O=C1CC2C(CCCN3C(=O)CCC23)O1\n",
      "4\n",
      "C.CC1C(=O)OC2CCCN3C(=O)CCC3C21.O.O.O\n",
      "5\n",
      "C.CC1C(=O)OC2CCCN3C(=O)CCC3C21.O.O.O\n"
     ]
    }
   ],
   "source": [
    "# this is for checking that the mol objects don't break valency rules\n",
    "for i in range( len(out_1)):\n",
    "    print(i)\n",
    "    m = amat_utils.molFromAdjMat(final_atoms_1,out_1[i],sanitize=False)\n",
    "    Chem.SanitizeMol(m)\n",
    "    print(Chem.MolToSmiles(m))"
   ]
  },
  {
   "cell_type": "code",
   "execution_count": 23,
   "id": "2769ad99",
   "metadata": {},
   "outputs": [],
   "source": [
    "save_dict = {\"amats\":out_1[:-1],\"atoms\":final_atoms_1}"
   ]
  },
  {
   "cell_type": "code",
   "execution_count": 24,
   "id": "18b9c39b",
   "metadata": {},
   "outputs": [],
   "source": [
    "np.savez(\"./matrices/stemo_exp_mannich_short\",**save_dict)"
   ]
  },
  {
   "cell_type": "markdown",
   "id": "bad43bfb",
   "metadata": {},
   "source": [
    "### Synthia Mannich-excluded"
   ]
  },
  {
   "cell_type": "code",
   "execution_count": 25,
   "id": "f5efc5ce",
   "metadata": {},
   "outputs": [
    {
     "data": {
      "text/plain": [
       "[{'edits': ()},\n",
       " {'pad': 0,\n",
       "  'pad_elem': [],\n",
       "  'edits': [(3, 3, 1), (6, 6, 1), (7, 7, 1), (8, 8, 1)]},\n",
       " {'pad': 1, 'pad_elem': [8], 'edits': [(11, 12, -1), (11, 17, 1)]}]"
      ]
     },
     "execution_count": 25,
     "metadata": {},
     "output_type": "execute_result"
    }
   ],
   "source": [
    "changelogs = amat_utils.make_changelogs(\"./edit_files/edits_stemo_no_mannich.csv\")\n",
    "changelogs[:3]"
   ]
  },
  {
   "cell_type": "code",
   "execution_count": 26,
   "id": "1e6104de",
   "metadata": {},
   "outputs": [
    {
     "name": "stdout",
     "output_type": "stream",
     "text": [
      "0\n",
      "C.C1=CCC1.CC=O.Cl.N#CCCCCN.O.O.O.O.O\n",
      "1\n",
      "C.C1=CCC1.CC=O.Cl.N.NCCCCC=O.O.O.O.O\n",
      "2\n",
      "C.C1=CCC1.Cl.N.NCCCC1C=CC(=O)O1.O.O.O.O\n",
      "3\n",
      "CC1C(=O)OC(CCCN)C1C1=CCC1.Cl.N.O.O.O.O\n",
      "4\n",
      "CC1C(=O)OC(CCCN)C1C(=O)CCC(=O)O.Cl.N.O\n",
      "5\n",
      "CC1C(=O)OC(CCCN)C1C(O)CCC(=O)O.Cl.N.O\n",
      "6\n",
      "CC1C(=O)OC(CCCN)C1C(Cl)CCC(=O)O.N.O.O\n",
      "7\n",
      "CC1C(=O)OC2CCCNC(CCC(=O)O)C21.Cl.N.O.O\n",
      "8\n",
      "CC1C(=O)OC2CCCN3C(=O)CCC3C21.Cl.N.O.O.O\n",
      "9\n",
      "CC1C(=O)OC2CCCN3C(=O)CCC3C21.Cl.N.O.O.O\n"
     ]
    }
   ],
   "source": [
    "out_1,final_atoms_1 = amat_utils.apply_changes(amat_init, target_atoms,changelogs[1:])\n",
    "\n",
    "for i in range(len(out_1)):\n",
    "    print(i)\n",
    "    m = amat_utils.molFromAdjMat(final_atoms_1,out_1[i],sanitize=False)\n",
    "    Chem.SanitizeMol(m)\n",
    "    print(Chem.MolToSmiles(m))"
   ]
  },
  {
   "cell_type": "code",
   "execution_count": 27,
   "id": "024c4991",
   "metadata": {},
   "outputs": [],
   "source": [
    "save_dict = {\"amats\":out_1[:-1],\"atoms\":final_atoms_1}\n",
    "\n",
    "np.savez(\"./matrices/stemo_synthia_no_mannich\",**save_dict)"
   ]
  }
 ],
 "metadata": {
  "kernelspec": {
   "display_name": "Python 3 (ipykernel)",
   "language": "python",
   "name": "python3"
  },
  "language_info": {
   "codemirror_mode": {
    "name": "ipython",
    "version": 3
   },
   "file_extension": ".py",
   "mimetype": "text/x-python",
   "name": "python",
   "nbconvert_exporter": "python",
   "pygments_lexer": "ipython3",
   "version": "3.9.7"
  }
 },
 "nbformat": 4,
 "nbformat_minor": 5
}
