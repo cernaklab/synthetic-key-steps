{
 "cells": [
  {
   "cell_type": "code",
   "execution_count": 1,
   "id": "overall-paradise",
   "metadata": {},
   "outputs": [],
   "source": [
    "from rdkit import Chem\n",
    "from rdkit.Chem.Draw import IPythonConsole\n",
    "\n",
    "import numpy as np\n",
    "import pandas as pd\n",
    "import amat_utils"
   ]
  },
  {
   "cell_type": "markdown",
   "id": "miniature-antigua",
   "metadata": {},
   "source": [
    "## initialize"
   ]
  },
  {
   "cell_type": "code",
   "execution_count": 2,
   "id": "presidential-controversy",
   "metadata": {},
   "outputs": [],
   "source": [
    "target_smiles = \"Cl[C@@H]1C[C@]([H])(C(C)(C)[C@]23C(C=CC=C4)=C4NC3=O)C2=C([N+]#[C-])[C@@]1(C=C)C\"\n",
    "target = Chem.MolToSmiles(Chem.MolFromSmiles(target_smiles))\n",
    "target = Chem.MolFromSmiles(target)\n",
    "Chem.Kekulize(target,clearAromaticFlags=True)"
   ]
  },
  {
   "cell_type": "code",
   "execution_count": 3,
   "id": "approximate-makeup",
   "metadata": {},
   "outputs": [],
   "source": [
    "target_atoms = [atm.GetAtomicNum() for atm in target.GetAtoms()]\n",
    "target_symbs = [atm.GetSymbol() for atm in target.GetAtoms()]"
   ]
  },
  {
   "cell_type": "code",
   "execution_count": 4,
   "id": "68f813f2",
   "metadata": {},
   "outputs": [],
   "source": [
    "target_atoms[1] = 14"
   ]
  },
  {
   "cell_type": "code",
   "execution_count": 5,
   "id": "scenic-plymouth",
   "metadata": {},
   "outputs": [],
   "source": [
    "amat = Chem.GetAdjacencyMatrix(target,useBO=True,force=True)\n",
    "amat_init = Chem.GetAdjacencyMatrix(target,useBO=True,force=True)"
   ]
  },
  {
   "cell_type": "code",
   "execution_count": 7,
   "id": "suspended-sunglasses",
   "metadata": {},
   "outputs": [
    {
     "data": {
      "image/png": "[encoded data removed]",
      "text/plain": [
       "<rdkit.Chem.rdchem.Mol at 0x20454005be0>"
      ]
     },
     "execution_count": 7,
     "metadata": {},
     "output_type": "execute_result"
    }
   ],
   "source": [
    "amat_utils.mol_with_atom_index(target)"
   ]
  },
  {
   "cell_type": "markdown",
   "id": "associate-dietary",
   "metadata": {},
   "source": [
    "### start the reversing\n"
   ]
  },
  {
   "cell_type": "code",
   "execution_count": 8,
   "id": "36eb41b8",
   "metadata": {},
   "outputs": [],
   "source": [
    "changelogs = amat_utils.make_changelogs(\"./edit_files/edits_welwitindolinone_baran.csv\")"
   ]
  },
  {
   "cell_type": "code",
   "execution_count": 9,
   "id": "fa1e1af1",
   "metadata": {},
   "outputs": [
    {
     "data": {
      "text/plain": [
       "[{'edits': ()},\n",
       " {'pad': 0,\n",
       "  'pad_elem': [],\n",
       "  'edits': [(9, 9, 1), (7, 7, 1), (5, 5, 1), (16, 16, 1)]},\n",
       " {'pad': 0,\n",
       "  'pad_elem': [],\n",
       "  'edits': [(13, 16, -1),\n",
       "   (13, 17, 1),\n",
       "   (17, 18, -2),\n",
       "   (17, 16, 1),\n",
       "   (16, 16, -1)]}]"
      ]
     },
     "execution_count": 9,
     "metadata": {},
     "output_type": "execute_result"
    }
   ],
   "source": [
    "changelogs[:3]"
   ]
  },
  {
   "cell_type": "code",
   "execution_count": 10,
   "id": "6d5d0185",
   "metadata": {},
   "outputs": [],
   "source": [
    "out_1,final_atoms_1 = amat_utils.apply_changes(amat, target_atoms,changelogs[1:])"
   ]
  },
  {
   "cell_type": "code",
   "execution_count": 11,
   "id": "b50ae311",
   "metadata": {},
   "outputs": [
    {
     "name": "stdout",
     "output_type": "stream",
     "text": [
      "C.C=CC1(C)C(=O)CC(C(=C)C)CC1Cl.O.[SiH4].c1ccc2[nH]ccc2c1\n",
      "C.C=CC1(C)C(=O)C(c2c[nH]c3ccccc23)C(C(=C)C)CC1Cl.O.[SiH4]\n",
      "C.C=CC1(C)C(=O)C2c3c([nH]c4ccccc34)C(C)(C)C2CC1Cl.O.[SiH4]\n",
      "C.C=CC1(C)C(Cl)CC2C(c3c([nH]c4ccccc34)C2(C)C)C1[SiH3].O.O\n",
      "C#[Si]C1C2c3c([nH]c4ccccc34)C(C)(C)C2CC(Cl)C1(C)C=C.O.O\n",
      "C#[Si]C1=C2c3c([nH]c4ccccc34)C(C)(C)C2CC(Cl)C1(C)C=C.O.O\n",
      "C#[Si]C1=C2C(CC(Cl)C1(C)C=C)C(C)(C)C21C(=O)Nc2ccccc21.O\n",
      "C#[Si]C1=C2C(CC(Cl)C1(C)C=C)C(C)(C)C21C(=O)Nc2ccccc21.O\n"
     ]
    }
   ],
   "source": [
    "from rdkit.Chem.Draw import *\n",
    "for i in range(len(out_1)):\n",
    "    m = amat_utils.molFromAdjMat(final_atoms_1,out_1[i])\n",
    "    Chem.SanitizeMol(m)\n",
    "    print(Chem.MolToSmiles(m))"
   ]
  },
  {
   "cell_type": "code",
   "execution_count": 12,
   "id": "18b9c39b",
   "metadata": {},
   "outputs": [],
   "source": [
    "save_dict = {\"amats\":out_1[:-1],\"atoms\":final_atoms_1}\n",
    "\n",
    "np.savez(\"./matrices/welwitindolinone_baran\",out_1[:-1],**save_dict)"
   ]
  }
 ],
 "metadata": {
  "kernelspec": {
   "display_name": "Python 3 (ipykernel)",
   "language": "python",
   "name": "python3"
  },
  "language_info": {
   "codemirror_mode": {
    "name": "ipython",
    "version": 3
   },
   "file_extension": ".py",
   "mimetype": "text/x-python",
   "name": "python",
   "nbconvert_exporter": "python",
   "pygments_lexer": "ipython3",
   "version": "3.9.7"
  }
 },
 "nbformat": 4,
 "nbformat_minor": 5
}
