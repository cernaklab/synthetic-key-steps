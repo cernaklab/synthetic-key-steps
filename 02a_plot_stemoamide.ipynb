{
 "cells": [
  {
   "cell_type": "markdown",
   "id": "6b6f0e58",
   "metadata": {},
   "source": [
    "## Plots graph edit distance figures in main text and SI"
   ]
  },
  {
   "cell_type": "code",
   "execution_count": 1,
   "id": "overall-paradise",
   "metadata": {},
   "outputs": [],
   "source": [
    "from rdkit import Chem\n",
    "from rdkit.Chem.Draw import IPythonConsole\n",
    "\n",
    "import matplotlib.pyplot as plt\n",
    "plt.rcParams.update({'font.family':'Arial'})\n",
    "\n",
    "import numpy as np"
   ]
  },
  {
   "cell_type": "code",
   "execution_count": 2,
   "id": "flush-opinion",
   "metadata": {},
   "outputs": [],
   "source": [
    "def sum_abs_adj_matrix(m):\n",
    "    return sum(sum(np.abs(m)))/2"
   ]
  },
  {
   "cell_type": "markdown",
   "id": "b71f13ba",
   "metadata": {},
   "source": [
    "### various graphing colors"
   ]
  },
  {
   "cell_type": "code",
   "execution_count": 3,
   "id": "ecdcce49",
   "metadata": {},
   "outputs": [],
   "source": [
    "# synthia graph colors\n",
    "synthia_purple = np.array([80,50,145,255])/255\n",
    "synthia_blue = np.array([45,190,205,255])/255\n",
    "synthia_orange = np.array([255,160,0,255])/255\n",
    "synthia_pink = np.array([235,60,150,255])/255"
   ]
  },
  {
   "cell_type": "code",
   "execution_count": 4,
   "id": "fbf9eb2e",
   "metadata": {},
   "outputs": [],
   "source": [
    "# chemdraw step marker colors\n",
    "cdraw_orange_face = np.array([252,236,207,255])/255\n",
    "cdraw_orange_edge = np.array([245,191,94,255])/255"
   ]
  },
  {
   "cell_type": "code",
   "execution_count": 5,
   "id": "e775b6e7",
   "metadata": {},
   "outputs": [],
   "source": [
    "# gridline color\n",
    "grid_grey = np.array([225,225,225,255])/255"
   ]
  },
  {
   "cell_type": "markdown",
   "id": "miniature-antigua",
   "metadata": {},
   "source": [
    "## initialize"
   ]
  },
  {
   "cell_type": "code",
   "execution_count": 6,
   "id": "e449f0e0",
   "metadata": {},
   "outputs": [],
   "source": [
    "def process_route(r1):\n",
    "    \n",
    "    \"\"\"\n",
    "    processes matrix-encoded synthetic route.\n",
    "    \n",
    "    input: r1, a 3D array, where each layer is a matrix encoding a synthetic intermediate.\n",
    "    output: a dictionary of route metrics. \n",
    "        diffs - the graph edit distance from each intermediate to the target\n",
    "        step diffs - the graph edit distance from each intermediate to the one right after\n",
    "        slope - the difference between consecutive entries of the diffs array\n",
    "    \"\"\"\n",
    "    total_diffs = []\n",
    "\n",
    "    stereo_dists = []\n",
    "    final_stereo = np.diag(r1[-1].copy())\n",
    "    \n",
    "    # get a version with blank diagonals (since stereochem is processed separately)\n",
    "    final_bonds = r1[-1].copy()\n",
    "    np.fill_diagonal(final_bonds, 0)\n",
    "    \n",
    "    for raw_mat in r1:\n",
    "        \n",
    "        # calculate stereochem distance \n",
    "        stereo_data = np.diag(raw_mat.copy())\n",
    "        stereo_dist = sum(stereo_data != final_stereo)\n",
    "        stereo_dists.append(stereo_dist)\n",
    "        \n",
    "        # get bonds only (without stereo)\n",
    "        mat = raw_mat.copy()\n",
    "        np.fill_diagonal(mat, 0)\n",
    "        \n",
    "        # bond distance\n",
    "        diff = final_bonds - mat\n",
    "        \n",
    "        # get bond edit distance\n",
    "        # take all absolute values, sum them up, divide by 2\n",
    "        total_diff_abs = sum_abs_adj_matrix(diff)\n",
    "        \n",
    "        # append sum of bond and stereochem distance\n",
    "        total_diffs.append(total_diff_abs + stereo_dist)\n",
    "\n",
    "    \n",
    "    step_diffs = []\n",
    "    stereo_diffs = np.ediff1d(stereo_dists)\n",
    "    for i_mat in range(len(r1)-1):\n",
    "        # difference between 2 intermediates\n",
    "        step_diff = r1[i_mat+1] - r1[i_mat]\n",
    "        \n",
    "        # zero out the stereochem \n",
    "        np.fill_diagonal(step_diff, 0)\n",
    "        \n",
    "        # total bond and stereocenter edits between 2 consecutive intermediates \n",
    "        total_diff_abs = sum_abs_adj_matrix(step_diff) + abs(stereo_diffs[i_mat])\n",
    "\n",
    "        step_diffs.append(total_diff_abs)\n",
    "\n",
    "    # change in actual distance between intermediates \n",
    "    slope = -np.ediff1d(total_diffs)\n",
    "\n",
    "    return {\"diffs\":total_diffs,\"step_diffs\":step_diffs,\"slopes\":slope}\n",
    "    "
   ]
  },
  {
   "cell_type": "markdown",
   "id": "associate-dietary",
   "metadata": {},
   "source": [
    "### load matrix data\n"
   ]
  },
  {
   "cell_type": "code",
   "execution_count": 15,
   "id": "4030c1e3",
   "metadata": {},
   "outputs": [],
   "source": [
    "exp1 = np.load(\"./matrices/stemo_exp_mannich.npz\")[\"amats\"]\n",
    "exp2 = np.load(\"./matrices/stemo_exp_schmidt.npz\")[\"amats\"]\n",
    "\n",
    "syn1 = np.load(\"./matrices/stemo_synthia_mannich.npz\")[\"amats\"]\n",
    "syn2 = np.load(\"./matrices/stemo_synthia_schmidt.npz\")[\"amats\"]"
   ]
  },
  {
   "cell_type": "code",
   "execution_count": 16,
   "id": "18875e97",
   "metadata": {},
   "outputs": [],
   "source": [
    "e1_data = process_route(exp1)\n",
    "e2_data = process_route(exp2)\n",
    "\n",
    "s1_data = process_route(syn1)\n",
    "s2_data = process_route(syn2)"
   ]
  },
  {
   "cell_type": "markdown",
   "id": "8c9d332d",
   "metadata": {},
   "source": [
    "### plot graphs separately\n"
   ]
  },
  {
   "cell_type": "markdown",
   "id": "4320c0dc",
   "metadata": {},
   "source": [
    "the plotting code here is slightly raw. For a better-annotated function, see the notebook for plotting SI figures."
   ]
  },
  {
   "cell_type": "markdown",
   "id": "b94c876a",
   "metadata": {},
   "source": [
    "### Synthia Mannich route"
   ]
  },
  {
   "cell_type": "code",
   "execution_count": 9,
   "id": "26dfa8c9",
   "metadata": {},
   "outputs": [],
   "source": [
    "to_plot = s1_data[\"diffs\"]"
   ]
  },
  {
   "cell_type": "code",
   "execution_count": 10,
   "id": "f64730e4",
   "metadata": {},
   "outputs": [],
   "source": [
    "y_midpoints = np.array([np.mean([to_plot[i],to_plot[i+1]]) for i in range(len(to_plot)-1)])\n",
    "x_midpoints = np.arange(0.5,len(to_plot)-1,1)"
   ]
  },
  {
   "cell_type": "code",
   "execution_count": 11,
   "id": "7ced8a32",
   "metadata": {},
   "outputs": [
    {
     "data": {
      "image/png": "[encoded data removed]",
      "text/plain": [
       "<Figure size 252x144 with 1 Axes>"
      ]
     },
     "metadata": {
      "needs_background": "light"
     },
     "output_type": "display_data"
    }
   ],
   "source": [
    "fig,ax = plt.subplots(figsize=(3.5,2))\n",
    "\n",
    "mks = 4\n",
    "fs = 7\n",
    "label_fs = 7\n",
    "\n",
    "# plot distances\n",
    "ax.plot(to_plot,marker=\"o\",color=\"grey\",markersize=mks,mfc=\"k\",mec=\"k\")\n",
    "\n",
    "# plot highlighted steps\n",
    "ax.plot([1,2],to_plot[1:3],color=synthia_orange,marker=\"o\",markersize=mks,mfc=\"k\",mec=\"k\",linewidth=2)\n",
    "\n",
    "\n",
    "ax.set_xticks(range(len(to_plot)))\n",
    "ax.set_xticklabels(range(1,len(to_plot)+1),fontsize=fs)\n",
    "ax.set_yticks(range(0,21,5))\n",
    "ax.set_yticklabels(range(0,21,5),fontsize=fs)\n",
    "ax.set_ylabel(\"Graph Edit Distance\",fontsize=label_fs)\n",
    "ax.set_xlabel(\"Intermediate\",fontsize=label_fs)\n",
    "\n",
    "# for the yellow circles with step numbers.\n",
    "# can adjust step number label height. can be array if custom adjustments are needed\n",
    "y_adj = 0\n",
    "ax.scatter(x_midpoints,y_midpoints+y_adj,s=75,color=cdraw_orange_face,edgecolors=cdraw_orange_edge,zorder=3)\n",
    "\n",
    "for i in range(len(x_midpoints)):\n",
    "    x_c = x_midpoints[i]\n",
    "    y_c = y_midpoints[i]+y_adj\n",
    "\n",
    "    label = ax.annotate(i+1, xy=(x_c,y_c), fontsize=6,ha=\"center\",va=\"center\",fontweight=\"bold\")\n",
    "\n",
    "transX = ax.get_xaxis_transform()\n",
    "transY = ax.get_yaxis_transform()\n",
    "ax.vlines([1,3,5,7],ymin=0,ymax=1,color=grid_grey,zorder=0,linewidth=0.8,transform=transX)\n",
    "ax.hlines([0,5,10,15,20],xmin=0,xmax=1,color=grid_grey,zorder=0,linewidth=0.8,transform=transY)\n",
    "\n",
    "plt.savefig(\"./figures/main/2F_synthia_mannich.svg\",bbox_inches = \"tight\")"
   ]
  },
  {
   "cell_type": "markdown",
   "id": "335bbb2f",
   "metadata": {},
   "source": [
    "### Experimental Mannich route"
   ]
  },
  {
   "cell_type": "code",
   "execution_count": 17,
   "id": "c9fc660b",
   "metadata": {},
   "outputs": [],
   "source": [
    "to_plot = e1_data[\"diffs\"]"
   ]
  },
  {
   "cell_type": "code",
   "execution_count": 18,
   "id": "caf87783",
   "metadata": {},
   "outputs": [],
   "source": [
    "y_midpoints = np.array([np.mean([to_plot[i],to_plot[i+1]]) for i in range(len(to_plot)-1)])\n",
    "x_midpoints = np.arange(0.5,len(to_plot)-1,1)"
   ]
  },
  {
   "cell_type": "code",
   "execution_count": 15,
   "id": "c336f22c",
   "metadata": {},
   "outputs": [
    {
     "data": {
      "image/png": "[encoded data removed]",
      "text/plain": [
       "<Figure size 252x144 with 1 Axes>"
      ]
     },
     "metadata": {
      "needs_background": "light"
     },
     "output_type": "display_data"
    }
   ],
   "source": [
    "fig,ax = plt.subplots(figsize=(3.5,2))\n",
    "\n",
    "mks = 4\n",
    "fs = 7\n",
    "label_fs = 7\n",
    "\n",
    "ax.plot(e1_data[\"diffs\"],marker=\"o\",color=\"grey\",markersize=1.5*mks,mfc=\"k\",mec=\"k\")\n",
    "ax.plot([0,1],e1_data[\"diffs\"][:2],color=synthia_orange,marker=\"o\",markersize=1.5*mks,mfc=\"k\",mec=\"k\",linewidth=2)\n",
    "\n",
    "ax.set_xticks(range(len(to_plot)))\n",
    "ax.set_xticklabels(range(1,len(to_plot)+1),fontsize=fs)\n",
    "\n",
    "ax.set_ylabel(\"Graph Edit Distance\",fontsize=fs)\n",
    "ax.set_xlabel(\"Intermediate\",fontsize=fs)\n",
    "\n",
    "transX = ax.get_xaxis_transform()\n",
    "transY = ax.get_yaxis_transform()\n",
    "ax.vlines([range(7)],ymin=0,ymax=1,color=grid_grey,zorder=0,linewidth=0.8,transform=transX)\n",
    "ax.hlines([0,5,10,15],xmin=0,xmax=1,color=grid_grey,zorder=0,linewidth=0.8,transform=transY)\n",
    "\n",
    "y_adj = 0\n",
    "ax.scatter(x_midpoints,y_midpoints+y_adj,s=75,color=cdraw_orange_face,edgecolors=cdraw_orange_edge,zorder=3)\n",
    "\n",
    "for i in range(len(x_midpoints)):\n",
    "    x_c = x_midpoints[i]\n",
    "    y_c = y_midpoints[i]+y_adj\n",
    "    \n",
    "    label = ax.annotate(i+1, xy=(x_c,y_c), fontsize=6,ha=\"center\",va=\"center\",fontweight=\"bold\")\n",
    "    \n",
    "ax.set_yticks(range(0,21,5))\n",
    "ax.set_yticklabels(range(0,21,5),fontsize=fs)    \n",
    "\n",
    "plt.savefig(\"./figures/main/3B_exp_mannich.svg\",dpi=300,bbox_inches = \"tight\")\n",
    "pass"
   ]
  },
  {
   "cell_type": "markdown",
   "id": "106bedfe",
   "metadata": {},
   "source": [
    "### S9A, Experimental Mannich route, with undercut"
   ]
  },
  {
   "cell_type": "code",
   "execution_count": 34,
   "id": "a2291bfc",
   "metadata": {},
   "outputs": [
    {
     "name": "stdout",
     "output_type": "stream",
     "text": [
      "['−11', '−2', 0, '−1', '−2', '−2']\n"
     ]
    },
    {
     "data": {
      "image/png": "[encoded data removed]",
      "text/plain": [
       "<Figure size 252x144 with 1 Axes>"
      ]
     },
     "metadata": {
      "needs_background": "light"
     },
     "output_type": "display_data"
    }
   ],
   "source": [
    "fig,ax = plt.subplots(figsize=(3.5,2))\n",
    "\n",
    "mks = 4\n",
    "fs = 11\n",
    "label_fs = 10\n",
    "circle_fs = 6\n",
    "\n",
    "\n",
    "# plot undercut\n",
    "grey_below = np.linspace(to_plot[2],to_plot[5],4)\n",
    "plt.plot([2,3,4,5],grey_below,color=\"grey\")\n",
    "ax.fill_between([2,3,4,5],grey_below,to_plot[2:6],color=\"lightgrey\")\n",
    "\n",
    "# plot distances\n",
    "ax.plot(to_plot,marker=\"o\",color=\"grey\",markersize=mks,mfc=\"k\",mec=\"k\")\n",
    "\n",
    "ax.set_xticks(range(len(to_plot)))\n",
    "ax.set_xticklabels(range(1,len(to_plot)+1),fontsize=fs)\n",
    "ax.set_yticks(range(0,21,5))\n",
    "ax.set_yticklabels(range(0,21,5),fontsize=fs)\n",
    "ax.set_ylabel(\"Graph Edit Distance\",fontsize=label_fs)\n",
    "ax.set_xlabel(\"Intermediate\",fontsize=label_fs)\n",
    "\n",
    "# for the yellow circles with step numbers.\n",
    "# can adjust step number label height. can be array if custom adjustments are needed\n",
    "y_adj = 0\n",
    "ax.scatter(x_midpoints,y_midpoints+y_adj,s=75,color=cdraw_orange_face,edgecolors=cdraw_orange_edge,zorder=3)\n",
    "\n",
    "for i in range(len(x_midpoints)):\n",
    "    x_c = x_midpoints[i]\n",
    "    y_c = y_midpoints[i]+y_adj\n",
    "\n",
    "    label = ax.annotate(i+1, xy=(x_c,y_c), fontsize=6,ha=\"center\",va=\"center\",fontweight=\"bold\")\n",
    "\n",
    "transX = ax.get_xaxis_transform()\n",
    "transY = ax.get_yaxis_transform()\n",
    "ax.vlines(range(7),ymin=0,ymax=1,color=grid_grey,zorder=0,linewidth=0.8,transform=transX)\n",
    "ax.hlines([0,5,10,15,20],xmin=0,xmax=1,color=grid_grey,zorder=0,linewidth=0.8,transform=transY)\n",
    "\n",
    "# compute values for the slope table\n",
    "slope = -e1_data[\"slopes\"].astype(\"int\")\n",
    "\n",
    "# swap to em dash\n",
    "slope_plot = []\n",
    "for slp in slope:\n",
    "    if slp >= 0:\n",
    "        slope_plot.append(slp)\n",
    "    else:\n",
    "        slope_plot.append(\"−\"+str(slp)[1:])\n",
    "\n",
    "table_text = np.vstack((np.arange(1,len(slope)+1,1),slope_plot)).transpose()\n",
    "table_scale=(0.3,1.3)\n",
    "slope_table = ax.table(cellText=table_text,\n",
    "                      colLabels=[\"Step\",\"Slope\",\"Step\",\"Slope\"],\n",
    "                      loc='right',fontsize=fs)\n",
    "\n",
    "slope_table.scale(*table_scale)\n",
    "plt.savefig(\"./figures/SI_1/S9A_exp_mannich_undercut.svg\",bbox_inches = \"tight\")"
   ]
  },
  {
   "cell_type": "markdown",
   "id": "231fb7b5",
   "metadata": {},
   "source": [
    "### 4B - Experimental Schmidt route"
   ]
  },
  {
   "cell_type": "code",
   "execution_count": 28,
   "id": "e945a8af",
   "metadata": {},
   "outputs": [],
   "source": [
    "to_plot = e2_data[\"diffs\"]\n",
    "y_midpoints = np.array([np.mean([to_plot[i],to_plot[i+1]]) for i in range(len(to_plot)-1)])\n",
    "x_midpoints = np.arange(0.5,len(to_plot)-1,1)"
   ]
  },
  {
   "cell_type": "code",
   "execution_count": 29,
   "id": "7583d39b",
   "metadata": {},
   "outputs": [
    {
     "data": {
      "image/png": "[encoded data removed]",
      "text/plain": [
       "<Figure size 108x144 with 1 Axes>"
      ]
     },
     "metadata": {
      "needs_background": "light"
     },
     "output_type": "display_data"
    }
   ],
   "source": [
    "fig,ax = plt.subplots(figsize=((3/7)*3.5,2))\n",
    "\n",
    "mks = 4\n",
    "fs = 7\n",
    "label_fs = 7\n",
    "\n",
    "ax.plot(to_plot,marker=\"o\",markersize=mks,color=\"grey\",mfc=\"k\",mec=\"k\")\n",
    "ax.plot([1,2,3],to_plot[1:],color=synthia_orange,marker=\"o\",markersize=mks,mfc=\"k\",mec=\"k\")\n",
    "\n",
    "ax.set_xticks(range(4))\n",
    "ax.set_xticklabels(range(1,5),font=\"Arial\",fontsize=fs)\n",
    "\n",
    "\n",
    "y_adj = 0\n",
    "ax.scatter(x_midpoints,y_midpoints+y_adj,s=75,color=cdraw_orange_face,edgecolors=cdraw_orange_edge,zorder=3)\n",
    "\n",
    "for i in range(len(x_midpoints)):\n",
    "    x_c = x_midpoints[i]\n",
    "    y_c = y_midpoints[i]+y_adj\n",
    "    \n",
    "    label = ax.annotate(i+1, xy=(x_c,y_c), fontsize=6,ha=\"center\",va=\"center\",fontweight=\"bold\")\n",
    "    \n",
    "    \n",
    "transX = ax.get_xaxis_transform()\n",
    "transY = ax.get_yaxis_transform()\n",
    "ax.vlines([range(4)],ymin=0,ymax=1,color=grid_grey,zorder=0,linewidth=0.8,transform=transX)\n",
    "ax.hlines([0,5,10,15],xmin=0,xmax=1,color=grid_grey,zorder=0,linewidth=0.8,transform=transY)\n",
    "\n",
    "ax.set_ylabel(\"Graph Edit Distance\",font=\"Arial\",fontsize=fs)\n",
    "ax.set_xlabel(\"Intermediate\",font=\"Arial\",fontsize=fs)\n",
    "ax.set_yticks(range(0,21,5))\n",
    "ax.set_yticklabels(range(0,21,5),font=\"Arial\",fontsize=fs)\n",
    "\n",
    "ax.set_xlim((-0.25,3.25))\n",
    "# plt.tight_layout()\n",
    "plt.savefig(\"./figures/main/4B_exp_schmidt.svg\",bbox_inches = \"tight\",dpi=300)\n",
    "pass"
   ]
  },
  {
   "cell_type": "code",
   "execution_count": null,
   "id": "fd191ecb",
   "metadata": {},
   "outputs": [],
   "source": []
  }
 ],
 "metadata": {
  "kernelspec": {
   "display_name": "Python 3 (ipykernel)",
   "language": "python",
   "name": "python3"
  },
  "language_info": {
   "codemirror_mode": {
    "name": "ipython",
    "version": 3
   },
   "file_extension": ".py",
   "mimetype": "text/x-python",
   "name": "python",
   "nbconvert_exporter": "python",
   "pygments_lexer": "ipython3",
   "version": "3.9.7"
  }
 },
 "nbformat": 4,
 "nbformat_minor": 5
}
