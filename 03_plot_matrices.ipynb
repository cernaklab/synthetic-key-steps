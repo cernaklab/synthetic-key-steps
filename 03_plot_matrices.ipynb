{
 "cells": [
  {
   "cell_type": "markdown",
   "id": "3b143b6c",
   "metadata": {},
   "source": [
    "## Plots bond-stereocenter matrices for a give matrix-encoded synthetic route"
   ]
  },
  {
   "cell_type": "code",
   "execution_count": 14,
   "id": "overall-paradise",
   "metadata": {},
   "outputs": [],
   "source": [
    "from rdkit import Chem\n",
    "from rdkit.Chem import Atom, BondType\n",
    "from rdkit.Chem.Draw import IPythonConsole\n",
    "\n",
    "import matplotlib.pyplot as plt\n",
    "from mpl_toolkits.axes_grid1 import make_axes_locatable\n",
    "from matplotlib import cm\n",
    "from matplotlib.colors import ListedColormap\n",
    "plt.rcParams.update({'font.family':'Arial'})\n",
    "\n",
    "import numpy as np\n",
    "import numpy.ma as ma\n",
    "\n",
    "import os\n",
    "import re"
   ]
  },
  {
   "cell_type": "code",
   "execution_count": 2,
   "id": "741131ba",
   "metadata": {},
   "outputs": [],
   "source": [
    "# colormap for the bond tracker plot.\n",
    "piyg_9 = cm.get_cmap('PiYG', 9)(range(9))\n",
    "piyg_short = piyg_9[[0,1,2,4,6,7,8]]\n",
    "ggs = 0.9\n",
    "piyg_short[0] = [ggs,ggs,ggs,1]\n",
    "piyg_short[3] = [0,0,0,0]\n",
    "piyg = ListedColormap(piyg_short)"
   ]
  },
  {
   "cell_type": "code",
   "execution_count": 3,
   "id": "167dd145",
   "metadata": {},
   "outputs": [],
   "source": [
    "bg = [0,0,0,0]\n",
    "\n",
    "synthia_purple = np.array([80,50,145,255])/255\n",
    "synthia_blue = np.array([45,190,205,255])/255\n",
    "synthia_orange = np.array([255,160,0,255])/255\n",
    "synthia_pink = np.array([235,60,150,255])/255\n",
    "\n",
    "synthia_purple_cm = ListedColormap(np.array([bg,synthia_purple]))\n",
    "synthia_blue_cm = ListedColormap(np.array([bg,synthia_blue]))\n",
    "synthia_orange_cm = ListedColormap(np.array([bg,synthia_orange]))\n",
    "synthia_pink_cm = ListedColormap(np.array([bg, synthia_pink]))\n",
    "\n",
    "gg = 0.8\n",
    "grey = [gg,gg,gg,1]\n",
    "grey_cm = ListedColormap([bg,grey])"
   ]
  },
  {
   "cell_type": "code",
   "execution_count": 4,
   "id": "28189c2d",
   "metadata": {},
   "outputs": [],
   "source": [
    "def molFromAdjMat(atoms, amat,sanitize=True):\n",
    "    \"\"\"\n",
    "    Creates a mol object from an adjacency matrix.\n",
    "    Inputs:\n",
    "    atoms: list of atomic numbers of atoms, by row\n",
    "    amat: adjacency matrix. Has to have same length as atoms (obviously)\n",
    "    Output: mol object\n",
    "    \"\"\"\n",
    "    \n",
    "    m = Chem.RWMol()\n",
    "    # add in the separate atoms\n",
    "    for a in atoms: m.AddAtom(Atom(a))\n",
    "    side_len = len(amat)    \n",
    "    for r in range(side_len):\n",
    "        for c in range(r+1,side_len):\n",
    "            bond_order = amat[r][c]\n",
    "            if bond_order > 0:\n",
    "                if bond_order == 1: m.AddBond(r,c,BondType.SINGLE)\n",
    "                if bond_order == 2: m.AddBond(r,c,BondType.DOUBLE)\n",
    "                if bond_order == 3: m.AddBond(r,c,BondType.TRIPLE)\n",
    "\n",
    "    if sanitize:\n",
    "        Chem.SanitizeMol(m)\n",
    "    return m"
   ]
  },
  {
   "cell_type": "code",
   "execution_count": 5,
   "id": "4f03272f",
   "metadata": {},
   "outputs": [],
   "source": [
    "def plot_amat_con(amat,core_atom_count,use_cmap,new_x=None,new_y=None):\n",
    "    concession_mat = np.zeros(amat.shape)\n",
    "    \n",
    "    vmin,vmax = (-3.5,3.5)\n",
    "    \n",
    "    concession_mat[core_atom_count:,:] = -3\n",
    "    concession_mat[:,core_atom_count:] = -3\n",
    "    \n",
    "    # various font sizes\n",
    "    title_fontsize = 20\n",
    "    grid_fontsize = 10\n",
    "    ax_fontsize = 12\n",
    "    cbar_fontsize = 12\n",
    "\n",
    "    amat_len = amat.shape\n",
    "    x = list(range(1,(amat.shape[1]+1)))\n",
    "    y = list(range(1,(amat.shape[0]+1)))\n",
    "\n",
    "    fig, ax = plt.subplots(figsize=(10,9))\n",
    "\n",
    "    im2 = ax.imshow(concession_mat,cmap=use_cmap)\n",
    "    im = ax.imshow(amat,cmap=use_cmap)\n",
    "\n",
    "    ax.set_xticks(np.arange(len(x)))\n",
    "    ax.set_yticks(np.arange(len(y)))\n",
    "\n",
    "    if new_x is not None:\n",
    "        ax.set_xticklabels(new_x,fontname='Arial',fontsize=ax_fontsize)\n",
    "    else:\n",
    "        ax.set_xticklabels(x,fontname='Arial',fontsize=ax_fontsize)\n",
    "        \n",
    "    if new_y is not None:\n",
    "        ax.set_yticklabels(new_y,fontname='Arial',fontsize=ax_fontsize)\n",
    "    else:\n",
    "        ax.set_yticklabels(y,fontname='Arial',fontsize=ax_fontsize)    \n",
    "\n",
    "    divider = make_axes_locatable(ax)\n",
    "    cax = divider.append_axes(\"right\", size=\"5%\", pad=0.05)\n",
    "    im2.set_clim(vmin,vmax)\n",
    "    im.set_clim(vmin, vmax)\n",
    "    cb = plt.colorbar(im, cax=cax)\n",
    "    # Minor ticks\n",
    "    ax.set_xticks(np.arange(-.5, amat.shape[1], 1), minor=True);\n",
    "    ax.set_yticks(np.arange(-.5, amat.shape[0], 1), minor=True);\n",
    "\n",
    "    gg = 0.8\n",
    "    # Gridlines based on minor ticks\n",
    "    ax.grid(which='minor', color=[gg,gg,gg,1], linestyle='-', linewidth=1)\n",
    "\n",
    "    cb.ax.tick_params(labelsize=18)\n",
    "    cb.set_ticks([-3,-2,-1,0,1,2,3])\n",
    "    cb.ax.set_yticklabels([\"concession\",-2,-1,0,1,2,3],font=\"Arial\",fontsize=cbar_fontsize)\n",
    "    pass"
   ]
  },
  {
   "cell_type": "code",
   "execution_count": 6,
   "id": "71b74eca",
   "metadata": {},
   "outputs": [],
   "source": [
    "def uniq(lst):\n",
    "    last = object()\n",
    "    for item in lst:\n",
    "        if item == last:\n",
    "            continue\n",
    "        yield item\n",
    "        last = item\n",
    "\n",
    "def sort_and_deduplicate(l):\n",
    "    return list(uniq(sorted(l)))"
   ]
  },
  {
   "cell_type": "code",
   "execution_count": 7,
   "id": "d1036bcd",
   "metadata": {},
   "outputs": [],
   "source": [
    "def reorder_matrix(mat,new_order):\n",
    "    return mat[new_order,:][:,new_order]"
   ]
  },
  {
   "cell_type": "code",
   "execution_count": 8,
   "id": "cb3deb27",
   "metadata": {},
   "outputs": [],
   "source": [
    "def setup_bond_tracker(amats,atoms):\n",
    "\n",
    "    # set the core (target) atom count here\n",
    "    final_mol = molFromAdjMat(atoms, amats[-1],sanitize=True)\n",
    "    final_frag_sizes = [len(i) for i in Chem.GetMolFrags(final_mol)]\n",
    "    core_atom_count = max(final_frag_sizes)\n",
    "    \n",
    "    # convert to only 1 and 0 for simpler plotting. Remove if required.\n",
    "    # amats = (amats!=0).astype(int)\n",
    "    \n",
    "    fin_amat = amats[-1]\n",
    "    fin_amat_core = fin_amat[:core_atom_count,:core_atom_count].copy()\n",
    "\n",
    "    # this includes stereocenters\n",
    "    # this is the x-y coords of the non-zero entries\n",
    "    final_bonds = np.where(np.tril(fin_amat_core)!=0)\n",
    "    n_pdt_entries = np.array(final_bonds).shape[1]\n",
    "\n",
    "    # format into [r,c] pairs\n",
    "    final_bond_pairs = np.vstack(final_bonds).transpose()\n",
    "    final_bond_pairs = [list(i) for i in final_bond_pairs]\n",
    "    \n",
    "    \n",
    "    # all bonds that ever existed throughout the whole route\n",
    "    all_bonds_ever = []\n",
    "    for a in amats:\n",
    "        bonds = np.where(np.tril(a)!=0)\n",
    "        bond_pairs = np.vstack(bonds).transpose()\n",
    "        all_bonds_ever.extend([list(i) for i in bond_pairs])  \n",
    "        \n",
    "    # sort and clean up\n",
    "    all_bonds_ever = sort_and_deduplicate(all_bonds_ever)\n",
    "    \n",
    "    concession_bonds = [i for i in all_bonds_ever if i not in list(final_bond_pairs)]\n",
    "    \n",
    "    # the final bond pairs stacked with concession bonds.\n",
    "    # basically all_bonds_ever, but reordered, and transposed back to flat rectangle\n",
    "    plot_bonds = np.vstack((final_bond_pairs,concession_bonds)).transpose()\n",
    "    \n",
    "    new_x = []\n",
    "\n",
    "    for i in range(len(plot_bonds[0])):\n",
    "        new_x.append(f\"{plot_bonds[0][i]+1}\\n{plot_bonds[1][i]+1}\")\n",
    "\n",
    "    bond_tracker = amats[:,plot_bonds[0],plot_bonds[1]]\n",
    "    \n",
    "    return {\"bond_tracker\":bond_tracker, \"plot_bonds\":plot_bonds, \"n_pdt_entries\":n_pdt_entries,\n",
    "            \"final_bond_pairs\":final_bond_pairs, \"bond_inds_list\":new_x}"
   ]
  },
  {
   "cell_type": "code",
   "execution_count": 26,
   "id": "3778599c",
   "metadata": {},
   "outputs": [],
   "source": [
    "def make_masks(mask_shape,bond_tracker_output):\n",
    "    \n",
    "    bond_tracker = bond_tracker_output[\"bond_tracker\"]\n",
    "    plot_bonds = bond_tracker_output[\"plot_bonds\"]\n",
    "    n_pdt_entries = bond_tracker_output[\"n_pdt_entries\"]\n",
    "    \n",
    "    purchased_bonds  = []\n",
    "    strategic_bonds  = []\n",
    "    concession_bonds = []\n",
    "\n",
    "    for i in range(bond_tracker.shape[1]):\n",
    "    #     print(i)\n",
    "        bond_hist = bond_tracker[:,i]\n",
    "\n",
    "        # purchased bond: nature does not change during route\n",
    "        if i < n_pdt_entries and \\\n",
    "            ( all(bond_hist[0] == bond_hist) or all(bond_hist!=0) ):\n",
    "            purchased_bonds.append((plot_bonds[0][i],plot_bonds[1][i]))\n",
    "    #         print(f\"{i+1}: \",plot_bonds[0][i]+1,plot_bonds[1][i]+1)\n",
    "\n",
    "        # strategic: absent at beginning but present at the end.\n",
    "        # this excludes bonds which are present at the end, but are between two concession atoms.\n",
    "\n",
    "        elif i < n_pdt_entries and (bond_hist[0] == 0 and bond_hist[-1] != 0):\n",
    "            strategic_bonds.append((plot_bonds[0][i],plot_bonds[1][i]))\n",
    "\n",
    "        # concession bonds are everything else. \n",
    "        else:\n",
    "            concession_bonds.append((plot_bonds[0][i],plot_bonds[1][i]))\n",
    "            \n",
    "            \n",
    "    purchased_mask = np.zeros(mask_shape)\n",
    "    concession_mask = np.zeros(mask_shape)\n",
    "    strategic_mask = np.zeros(mask_shape)\n",
    "\n",
    "    for i in purchased_bonds:\n",
    "        purchased_mask[i] = 1\n",
    "    purchased_mask += purchased_mask.transpose()\n",
    "    purchased_mask = np.int8(purchased_mask == 0)\n",
    "\n",
    "    for i in concession_bonds:\n",
    "        concession_mask[i] = 1\n",
    "    concession_mask += concession_mask.transpose()\n",
    "    concession_mask = np.int8(concession_mask == 0)\n",
    "\n",
    "    for i in strategic_bonds:\n",
    "        strategic_mask[i] = 1\n",
    "    strategic_mask += strategic_mask.transpose()\n",
    "    strategic_mask = np.int8(strategic_mask == 0)\n",
    "\n",
    "    return {\"purchased_mask\":purchased_mask,\"concession_mask\":concession_mask,\"strategic_mask\":strategic_mask}"
   ]
  },
  {
   "cell_type": "code",
   "execution_count": 27,
   "id": "a7f80dd0",
   "metadata": {},
   "outputs": [],
   "source": [
    "def plot_amat(amat,masks,savename=None,plt_title=None):\n",
    "    \"\"\"\n",
    "    still needs fontsizes defined globally.\n",
    "    \"\"\"\n",
    "\n",
    "    # make the masked arrays of the intermediate's bonds\n",
    "\n",
    "    p = ma.array(amat, mask=masks[\"purchased_mask\"])\n",
    "    s = ma.array(amat, mask=masks[\"strategic_mask\"])\n",
    "    c = ma.array(amat, mask=masks[\"concession_mask\"])\n",
    "\n",
    "    plt.figure(figsize=plt_figsize)\n",
    "    ax = plt.gca()\n",
    "\n",
    "    # plot the background and bonds\n",
    "    ax.set_facecolor(\"black\")\n",
    "\n",
    "    p_plt = ax.imshow(p,cmap=synthia_pink_cm)\n",
    "    s_plt = ax.imshow(s,cmap=grey_cm)\n",
    "    c_plt = ax.imshow(c,cmap=synthia_blue_cm)\n",
    "\n",
    "    atom_labels = range(1,len(amat)+1)\n",
    "\n",
    "    for pl in [p_plt,s_plt,c_plt]:\n",
    "        pl.set_clim(0,1)\n",
    "    \n",
    "    # plot the grey gridlines\n",
    "    # set minor ticks and draw the grid\n",
    "    ax.set_xticks(np.arange(-.5, amat.shape[1], 1), minor=True);\n",
    "    ax.set_yticks(np.arange(-.5, amat.shape[0], 1), minor=True);\n",
    "\n",
    "    gg = 0.7\n",
    "    # Gridlines based on minor ticks\n",
    "    ax.grid(which='minor', color=[gg,gg,gg,1], linestyle='-', linewidth=1)\n",
    "\n",
    "    ax.set_xticks(np.arange(len(amat)))\n",
    "    ax.set_yticks(np.arange(len(amat)))\n",
    "    atom_labels = range(1,len(amat)+1)\n",
    "    ax.set_xticklabels(atom_labels,font=\"Arial\",fontsize=fs,rotation=0)\n",
    "    ax.set_yticklabels(atom_labels,font=\"Arial\",fontsize=fs)\n",
    "    \n",
    "    if plt_title:\n",
    "        plt.title(plt_title,fontsize=title_fs)\n",
    "    if savename:\n",
    "        plt.savefig(savename,dpi=300)\n",
    "    pass"
   ]
  },
  {
   "cell_type": "code",
   "execution_count": 88,
   "id": "4df7d78f",
   "metadata": {},
   "outputs": [],
   "source": [
    "route_name = \"welwitindolinone_baran\"\n",
    "matrix_path = f\"./matrices/{route_name}.npz\"\n",
    "\n",
    "\n",
    "data = np.load(matrix_path)\n",
    "amats = data[\"amats\"]\n",
    "atoms = [int(i) for i in data[\"atoms\"]] # RDKit doesn't like arrays for some reason.\n",
    "mask_shape=amats.shape[1:]\n",
    "\n",
    "bond_tracker = setup_bond_tracker(amats,atoms)\n",
    "masks = make_masks(mask_shape,bond_tracker)"
   ]
  },
  {
   "cell_type": "code",
   "execution_count": 90,
   "id": "a45d6f71",
   "metadata": {},
   "outputs": [
    {
     "name": "stdout",
     "output_type": "stream",
     "text": [
      "./matrix_plots/welwitindolinone_baran/welwitindolinone_baran_1.png\n",
      "./matrix_plots/welwitindolinone_baran/welwitindolinone_baran_2.png\n",
      "./matrix_plots/welwitindolinone_baran/welwitindolinone_baran_3.png\n",
      "./matrix_plots/welwitindolinone_baran/welwitindolinone_baran_4.png\n",
      "./matrix_plots/welwitindolinone_baran/welwitindolinone_baran_5.png\n",
      "./matrix_plots/welwitindolinone_baran/welwitindolinone_baran_6.png\n",
      "./matrix_plots/welwitindolinone_baran/welwitindolinone_baran_7.png\n"
     ]
    },
    {
     "data": {
      "image/png": "[encoded data removed]",
      "text/plain": [
       "<Figure size 360x360 with 1 Axes>"
      ]
     },
     "metadata": {
      "needs_background": "light"
     },
     "output_type": "display_data"
    },
    {
     "data": {
      "image/png": "[encoded data removed]",
      "text/plain": [
       "<Figure size 360x360 with 1 Axes>"
      ]
     },
     "metadata": {
      "needs_background": "light"
     },
     "output_type": "display_data"
    },
    {
     "data": {
      "image/png": "[encoded data removed]",
      "text/plain": [
       "<Figure size 360x360 with 1 Axes>"
      ]
     },
     "metadata": {
      "needs_background": "light"
     },
     "output_type": "display_data"
    },
    {
     "data": {
      "image/png": "[encoded data removed]",
      "text/plain": [
       "<Figure size 360x360 with 1 Axes>"
      ]
     },
     "metadata": {
      "needs_background": "light"
     },
     "output_type": "display_data"
    },
    {
     "data": {
      "image/png": "[encoded data removed]",
      "text/plain": [
       "<Figure size 360x360 with 1 Axes>"
      ]
     },
     "metadata": {
      "needs_background": "light"
     },
     "output_type": "display_data"
    },
    {
     "data": {
      "image/png": "[encoded data removed]",
      "text/plain": [
       "<Figure size 360x360 with 1 Axes>"
      ]
     },
     "metadata": {
      "needs_background": "light"
     },
     "output_type": "display_data"
    },
    {
     "data": {
      "image/png": "[encoded data removed]",
      "text/plain": [
       "<Figure size 360x360 with 1 Axes>"
      ]
     },
     "metadata": {
      "needs_background": "light"
     },
     "output_type": "display_data"
    }
   ],
   "source": [
    "# plot.\n",
    "fs = 9\n",
    "title_fs = 30\n",
    "plt_figsize=(5,5)\n",
    "if not os.path.isdir(f\"./matrix_plots/{route_name}/\"):\n",
    "    os.makedirs(f\"./matrix_plots/{route_name}/\")\n",
    "for ia, amat in enumerate(amats):\n",
    "    savename = f\"./matrix_plots/{route_name}/{route_name}_{ia+1}.png\"\n",
    "    print(savename)\n",
    "#     savename=None\n",
    "    plot_amat(amat,masks,savename=savename,plt_title=str(ia+1))"
   ]
  },
  {
   "cell_type": "code",
   "execution_count": 30,
   "id": "7b978bbf",
   "metadata": {},
   "outputs": [
    {
     "data": {
      "image/png": "[encoded data removed]",
      "text/plain": [
       "<Figure size 720x648 with 2 Axes>"
      ]
     },
     "metadata": {
      "needs_background": "light"
     },
     "output_type": "display_data"
    }
   ],
   "source": [
    "# this sets up the bond-tracking chart. It's for your own reference.\n",
    "# x axis is bonds, y axis is intermediate number. \n",
    "\n",
    "# plt.figure(figsize=(12,6))\n",
    "use_cmap = piyg\n",
    "plot_amat_con(bond_tracker[\"bond_tracker\"],len(bond_tracker[\"final_bond_pairs\"]),\n",
    "              use_cmap,new_x=bond_tracker[\"bond_inds_list\"])"
   ]
  }
 ],
 "metadata": {
  "kernelspec": {
   "display_name": "Python 3 (ipykernel)",
   "language": "python",
   "name": "python3"
  },
  "language_info": {
   "codemirror_mode": {
    "name": "ipython",
    "version": 3
   },
   "file_extension": ".py",
   "mimetype": "text/x-python",
   "name": "python",
   "nbconvert_exporter": "python",
   "pygments_lexer": "ipython3",
   "version": "3.9.7"
  }
 },
 "nbformat": 4,
 "nbformat_minor": 5
}
